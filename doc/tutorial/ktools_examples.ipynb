{
 "cells": [
  {
   "cell_type": "markdown",
   "metadata": {},
   "source": [
    "This is a tutorial on how to use the ktools coupling to CLIMADA. The according term paper of Robert Blass provides further information and can be found here:\n",
    "https://doi.org/10.3929/ethz-b-000480061"
   ]
  },
  {
   "cell_type": "markdown",
   "metadata": {},
   "source": [
    "# Example 1"
   ]
  },
  {
   "cell_type": "markdown",
   "metadata": {},
   "source": [
    "The first example we translate exposures, hazard, impact function and centroids to ktools. The example consists of a step function as an impact function. The discretization approach of the tranlation from CLIMADA to ktools can approximate a step function perfectly. Therefore, we expect the result in CLIMADA and ktools to be the same. "
   ]
  },
  {
   "cell_type": "code",
   "execution_count": 1,
   "metadata": {
    "ExecuteTime": {
     "end_time": "2023-08-17T09:05:28.574601Z",
     "start_time": "2023-08-17T09:05:25.379014Z"
    }
   },
   "outputs": [],
   "source": [
    "import sys\n",
    "import numpy as np\n",
    "import matplotlib.pyplot as plt\n",
    "from pandas import DataFrame\n",
    "\n",
    "from climada import util\n",
    "#util.config.setup_logging('ERROR')\n",
    "\n",
    "from climada.entity.entity_def import Entity\n",
    "from climada.engine.impact import Impact\n",
    "from climada.hazard.base import Hazard\n",
    "from climada.hazard import Centroids\n",
    "from scipy import sparse\n",
    "from climada.entity import Exposures, ImpactFunc, ImpactFuncSet, IFTropCyclone\n",
    "from climada_petals.engine.impact_ktools import ImpactKtools"
   ]
  },
  {
   "cell_type": "code",
   "execution_count": 2,
   "metadata": {
    "ExecuteTime": {
     "end_time": "2023-08-17T09:05:28.598497Z",
     "start_time": "2023-08-17T09:05:28.577982Z"
    }
   },
   "outputs": [
    {
     "name": "stdout",
     "output_type": "stream",
     "text": [
      "2023-08-17 11:05:28,584 - climada.util.coordinates - INFO - Setting geometry points.\n",
      "2023-08-17 11:05:28,590 - climada.entity.exposures.base - INFO - category_id not set.\n",
      "2023-08-17 11:05:28,591 - climada.entity.exposures.base - INFO - cover not set.\n",
      "2023-08-17 11:05:28,592 - climada.entity.exposures.base - INFO - deductible not set.\n",
      "2023-08-17 11:05:28,593 - climada.entity.exposures.base - INFO - region_id not set.\n",
      "2023-08-17 11:05:28,594 - climada.entity.exposures.base - INFO - centr_ not set.\n"
     ]
    }
   ],
   "source": [
    "# Generate exposures\n",
    "exp = DataFrame()\n",
    "exp['value'] = np.array([1000, 1000, 1000, 1000])\n",
    "exp['latitude'] = np.array([0, 0, 0, 0])\n",
    "exp['longitude'] = np.array([1, 1, 1, 1])\n",
    "exp['if_TC'] = np.ones(len(exp['value']), int)\n",
    "exp = Exposures(exp)\n",
    "exp.set_geometry_points()\n",
    "exp.check()"
   ]
  },
  {
   "cell_type": "code",
   "execution_count": 3,
   "metadata": {
    "ExecuteTime": {
     "end_time": "2023-08-17T09:05:28.890629Z",
     "start_time": "2023-08-17T09:05:28.600459Z"
    }
   },
   "outputs": [
    {
     "data": {
      "image/png": "[encoded data removed]",
      "text/plain": [
       "<Figure size 640x480 with 1 Axes>"
      ]
     },
     "metadata": {},
     "output_type": "display_data"
    }
   ],
   "source": [
    "# Generate impact function\n",
    "imp_fun = ImpactFunc()\n",
    "imp_fun.haz_type = 'TC'\n",
    "imp_fun.id = 1\n",
    "imp_fun.name = 'Example 2'\n",
    "imp_fun.intensity_unit = 'm/s'\n",
    "imp_fun.intensity = np.array([0, 20, 20, 70, 70, 100])\n",
    "imp_fun.mdd = np.array([0.0, 0.0, 0.6, 0.6, 1., 1.])\n",
    "imp_fun.paa = np.array([1., 1., 1., 1., 1., 1.])\n",
    "imp_fun.check()\n",
    "imp_fun.plot()\n",
    "\n",
    "imp_fun_set = ImpactFuncSet()\n",
    "imp_fun_set.append(imp_fun)"
   ]
  },
  {
   "cell_type": "code",
   "execution_count": 4,
   "metadata": {
    "ExecuteTime": {
     "end_time": "2023-08-17T09:05:28.903760Z",
     "start_time": "2023-08-17T09:05:28.893780Z"
    }
   },
   "outputs": [
    {
     "name": "stdout",
     "output_type": "stream",
     "text": [
      "2023-08-17 11:05:28,899 - climada.hazard.centroids.centr - WARNING - The use of Centroids.set_lat_lon is deprecated. Use Centroids.from_lat_lon instead.\n"
     ]
    }
   ],
   "source": [
    "# Generate hazard\n",
    "hazard = Hazard('TC')\n",
    "hazard.centroids = Centroids()\n",
    "hazard.centroids.set_lat_lon(exp.gdf.latitude, exp.gdf.longitude, exp.crs)\n",
    "hazard.centroids.region_id = np.array([1, 2, 3, 4])\n",
    "hazard.centroids.check()\n",
    "hazard.units = 'm/s'\n",
    "hazard.event_id = np.array([1])\n",
    "hazard.event_name = ['A']\n",
    "hazard.frequency = np.array([1])\n",
    "# Events x centroids\n",
    "hazard.intensity = sparse.csr_matrix([[10, 80, 30, 60]])\n",
    "hazard.fraction = sparse.csr_matrix([[1, 1, 1, 1]]) #other fraction than one cannot be translated to ktools\n",
    "hazard.frequency = np.array([1.]) #other frequency than one cannot be translated to ktools\n",
    "hazard.check()"
   ]
  },
  {
   "cell_type": "code",
   "execution_count": 5,
   "metadata": {
    "ExecuteTime": {
     "end_time": "2023-08-17T09:05:28.916879Z",
     "start_time": "2023-08-17T09:05:28.906071Z"
    }
   },
   "outputs": [
    {
     "name": "stdout",
     "output_type": "stream",
     "text": [
      "2023-08-17 11:05:28,907 - climada.entity.exposures.base - INFO - Matching 4 exposures with 4 centroids.\n",
      "2023-08-17 11:05:28,910 - climada.entity.exposures.base - INFO - category_id not set.\n",
      "2023-08-17 11:05:28,911 - climada.entity.exposures.base - INFO - cover not set.\n",
      "2023-08-17 11:05:28,911 - climada.entity.exposures.base - INFO - deductible not set.\n",
      "2023-08-17 11:05:28,912 - climada.entity.exposures.base - INFO - region_id not set.\n"
     ]
    }
   ],
   "source": [
    "# Assign centroids to exposures\n",
    "exp.assign_centroids(hazard) \n",
    "\n",
    "haz_id = 1\n",
    "haz_type = 'TC'\n",
    "exp.gdf.rename(columns={\"if_\": \"impf_\" + haz_type}, inplace=True)\n",
    "exp.gdf['impf_' + haz_type] = haz_id\n",
    "exp.check()"
   ]
  },
  {
   "cell_type": "code",
   "execution_count": 6,
   "metadata": {
    "ExecuteTime": {
     "end_time": "2023-08-17T09:05:28.932276Z",
     "start_time": "2023-08-17T09:05:28.921360Z"
    }
   },
   "outputs": [
    {
     "name": "stdout",
     "output_type": "stream",
     "text": [
      "2023-08-17 11:05:28,922 - climada.engine.impact - WARNING - The use of Impact().calc() is deprecated. Use ImpactCalc().impact() instead.\n",
      "2023-08-17 11:05:28,924 - climada.entity.exposures.base - INFO - Exposures matching centroids already found for TC\n",
      "2023-08-17 11:05:28,925 - climada.entity.exposures.base - INFO - Existing centroids will be overwritten for TC\n",
      "2023-08-17 11:05:28,925 - climada.entity.exposures.base - INFO - Matching 4 exposures with 4 centroids.\n",
      "2023-08-17 11:05:28,927 - climada.engine.impact_calc - INFO - Calculating impact for 12 assets (>0) and 1 events.\n"
     ]
    }
   ],
   "source": [
    "# Compute the impact over the whole exposures\n",
    "imp = Impact()\n",
    "imp.calc(exp, imp_fun_set, hazard)"
   ]
  },
  {
   "cell_type": "code",
   "execution_count": 7,
   "metadata": {
    "ExecuteTime": {
     "end_time": "2023-08-17T09:05:29.556984Z",
     "start_time": "2023-08-17T09:05:28.934021Z"
    }
   },
   "outputs": [
    {
     "name": "stdout",
     "output_type": "stream",
     "text": [
      "2023-08-17 11:05:28,935 - climada.entity.exposures.base - INFO - Exposures matching centroids already found for TC\n",
      "2023-08-17 11:05:28,936 - climada.entity.exposures.base - INFO - Existing centroids will be overwritten for TC\n",
      "2023-08-17 11:05:28,937 - climada.entity.exposures.base - INFO - Matching 4 exposures with 4 centroids.\n",
      "2023-08-17 11:05:28,939 - climada_petals.engine.impact_ktools - INFO - Calculating damage for 4 assets (>0) and 1 events.\n",
      "evetobin < events.csv > events.bin\n"
     ]
    },
    {
     "ename": "AttributeError",
     "evalue": "'int' object has no attribute 'get'",
     "output_type": "error",
     "traceback": [
      "\u001b[0;31m---------------------------------------------------------------------------\u001b[0m",
      "\u001b[0;31mAttributeError\u001b[0m                            Traceback (most recent call last)",
      "Cell \u001b[0;32mIn[7], line 3\u001b[0m\n\u001b[1;32m      1\u001b[0m \u001b[38;5;66;03m# Compute the impact with ktools\u001b[39;00m\n\u001b[1;32m      2\u001b[0m impk \u001b[38;5;241m=\u001b[39m ImpactKtools()\n\u001b[0;32m----> 3\u001b[0m \u001b[43mimpk\u001b[49m\u001b[38;5;241;43m.\u001b[39;49m\u001b[43mcalc_ktools\u001b[49m\u001b[43m(\u001b[49m\u001b[43mexp\u001b[49m\u001b[43m,\u001b[49m\u001b[43m \u001b[49m\u001b[43mimp_fun_set\u001b[49m\u001b[43m,\u001b[49m\u001b[43m \u001b[49m\u001b[43mhazard\u001b[49m\u001b[43m,\u001b[49m\u001b[43m \u001b[49m\u001b[38;5;241;43m5\u001b[39;49m\u001b[43m)\u001b[49m\n",
      "File \u001b[0;32m~/Documents/Climada/climada_petals/climada_petals/engine/impact_ktools.py:386\u001b[0m, in \u001b[0;36mImpactKtools.calc_ktools\u001b[0;34m(self, exposures, impact_funcs, hazard, def_bins, path_exe_ktools, save_mat)\u001b[0m\n\u001b[1;32m    384\u001b[0m \u001b[38;5;66;03m#translate climada, save in csv files and conversion to binary files\u001b[39;00m\n\u001b[1;32m    385\u001b[0m \u001b[38;5;28mself\u001b[39m\u001b[38;5;241m.\u001b[39mgenerate_events(hazard, ktools_input_dir, path_exe_ktools)\n\u001b[0;32m--> 386\u001b[0m \u001b[38;5;28mself\u001b[39m\u001b[38;5;241m.\u001b[39mgenerate_damage_bins(imp_fun, \u001b[43mdef_bins\u001b[49m\u001b[38;5;241;43m.\u001b[39;49m\u001b[43mget\u001b[49m(\u001b[38;5;124m'\u001b[39m\u001b[38;5;124mdamage_bins\u001b[39m\u001b[38;5;124m'\u001b[39m), ktools_static_dir, path_exe_ktools)\n\u001b[1;32m    387\u001b[0m \u001b[38;5;28mself\u001b[39m\u001b[38;5;241m.\u001b[39mgenerate_coverages(exposures, ktools_input_dir, path_exe_ktools)\n\u001b[1;32m    388\u001b[0m \u001b[38;5;28mself\u001b[39m\u001b[38;5;241m.\u001b[39mgenerate_items(exposures, def_bins\u001b[38;5;241m.\u001b[39mget(\u001b[38;5;124m'\u001b[39m\u001b[38;5;124mvul_id_per_area\u001b[39m\u001b[38;5;124m'\u001b[39m), ktools_input_dir, path_exe_ktools)\n",
      "\u001b[0;31mAttributeError\u001b[0m: 'int' object has no attribute 'get'"
     ]
    }
   ],
   "source": [
    "# Compute the impact with ktools\n",
    "impk = ImpactKtools()\n",
    "impk.calc_ktools(exp, imp_fun_set, hazard, 5)"
   ]
  },
  {
   "cell_type": "code",
   "execution_count": 8,
   "metadata": {},
   "outputs": [
    {
     "name": "stdout",
     "output_type": "stream",
     "text": [
      "at_event climada    ktools              difference          \n",
      "2.20000e+03         2.20000e+03         0.00000e+00         \n",
      "\n",
      "eai_exp climada     ktools              difference          \n",
      "0.00000e+00         0.00000e+00         0.00000e+00         \n",
      "1.00000e+03         1.00000e+03         0.00000e+00         \n",
      "6.00000e+02         6.00000e+02         0.00000e+00         \n",
      "6.00000e+02         6.00000e+02         0.00000e+00         \n",
      "\n",
      "measure             sum climada         sum ktools          \n",
      "at_event            2200.0              2200.0              \n",
      "eai_exp             2200.0              2200.0              \n"
     ]
    }
   ],
   "source": [
    "fmt = '{:<20}{:<20}{:<20}'\n",
    "print(fmt.format('at_event climada', 'ktools', 'difference'))\n",
    "for i in range(len(imp.at_event)):\n",
    "    d = imp.at_event[i] - impk.at_event[i]\n",
    "    print( fmt.format(\"%10.5e\"% imp.at_event[i], \"%10.5e\"% impk.at_event[i],\n",
    "                      \"%10.5e\"% d))   \n",
    "\n",
    "print()\n",
    "print(fmt.format('eai_exp climada', 'ktools', 'difference'))\n",
    "for i in range(len(exp.centr_TC)):\n",
    "    d = imp.eai_exp[i] - impk.eai_exp[i]\n",
    "    print( fmt.format(\"%10.5e\"% imp.eai_exp[i], \"%10.5e\"% impk.eai_exp[i],\n",
    "                      \"%10.5e\"% d))\n",
    "print()\n",
    "fmt = '{:<20}{:<20}{:<20}'\n",
    "print(fmt.format('measure', 'sum climada', 'sum ktools'))\n",
    "print(fmt.format('at_event', sum(imp.at_event), sum(impk.at_event))) \n",
    "print(fmt.format('eai_exp', sum(imp.eai_exp), sum(impk.eai_exp)))"
   ]
  },
  {
   "cell_type": "markdown",
   "metadata": {},
   "source": [
    "As expected, the results match. "
   ]
  },
  {
   "cell_type": "markdown",
   "metadata": {},
   "source": [
    "# Second example"
   ]
  },
  {
   "cell_type": "markdown",
   "metadata": {},
   "source": [
    "In the second example we analyse a piecewise linear impact function with varying MDD and PAA slopes. We can specify a different hazard frequency than one, but this is not translated to ktools. It is also not included in the computation of uncertainty in ktools."
   ]
  },
  {
   "cell_type": "code",
   "execution_count": 9,
   "metadata": {
    "ExecuteTime": {
     "end_time": "2021-02-22T21:18:50.246993Z",
     "start_time": "2021-02-22T21:18:50.142984Z"
    }
   },
   "outputs": [],
   "source": [
    "# Generate exposure \n",
    "exp = DataFrame()\n",
    "exp['value'] = np.array([1000, 1000, 1000, 1000])\n",
    "exp['latitude'] = np.array([0, 0, 0, 0])\n",
    "exp['longitude'] = np.array([1, 1, 1, 1])\n",
    "exp['if_TC'] = np.ones(len(exp['value']), int)\n",
    "exp = Exposures(exp)\n",
    "exp.set_geometry_points()\n",
    "exp.check()"
   ]
  },
  {
   "cell_type": "code",
   "execution_count": 10,
   "metadata": {},
   "outputs": [
    {
     "data": {
      "image/png": "[encoded data removed]",
      "text/plain": [
       "<Figure size 432x288 with 1 Axes>"
      ]
     },
     "metadata": {
      "needs_background": "light"
     },
     "output_type": "display_data"
    }
   ],
   "source": [
    "# Generate impact function\n",
    "imp_fun = ImpactFunc()\n",
    "imp_fun.haz_type = 'TC'\n",
    "imp_fun.id = 1\n",
    "imp_fun.name = 'Example 2'\n",
    "imp_fun.intensity_unit = 'm/s'\n",
    "imp_fun.intensity = np.array([0, 30, 100])\n",
    "imp_fun.mdd = np.array([0.2, 0.7, 1.0])\n",
    "imp_fun.paa = np.array([0.3, 0.6, 1.0])\n",
    "imp_fun.check()\n",
    "imp_fun.plot()\n",
    "\n",
    "imp_fun_set = ImpactFuncSet()\n",
    "imp_fun_set.append(imp_fun)"
   ]
  },
  {
   "cell_type": "code",
   "execution_count": 11,
   "metadata": {
    "ExecuteTime": {
     "end_time": "2021-02-22T22:41:34.065400Z",
     "start_time": "2021-02-22T22:41:32.225062Z"
    }
   },
   "outputs": [],
   "source": [
    "# Generate hazard\n",
    "hazard = Hazard('TC')\n",
    "hazard.centroids = Centroids()\n",
    "hazard.centroids.set_lat_lon(exp.latitude, exp.longitude, exp.crs)\n",
    "hazard.centroids.region_id = np.array([1, 2, 3, 4])\n",
    "hazard.centroids.check()\n",
    "hazard.units = 'm/s'\n",
    "hazard.event_id = np.array([1])\n",
    "hazard.event_name = ['A']\n",
    "hazard.frequency = np.array([1])\n",
    "# events x centroids\n",
    "hazard.intensity = sparse.csr_matrix([[10, 80, 30, 45]])\n",
    "hazard.fraction = sparse.csr_matrix([[1, 1, 1, 1]])\n",
    "hazard.frequency = np.array([0.4])\n",
    "hazard.check()"
   ]
  },
  {
   "cell_type": "code",
   "execution_count": 12,
   "metadata": {
    "ExecuteTime": {
     "end_time": "2021-02-22T22:41:53.270394Z",
     "start_time": "2021-02-22T22:41:53.260336Z"
    }
   },
   "outputs": [],
   "source": [
    "# Assign centroids to exposures\n",
    "exp.assign_centroids(hazard) \n",
    "\n",
    "haz_id = 1\n",
    "haz_type = 'TC'\n",
    "exp.rename(columns={\"if_\": \"if_\" + haz_type}, inplace=True)\n",
    "exp['if_' + haz_type] = haz_id\n",
    "exp.check()"
   ]
  },
  {
   "cell_type": "code",
   "execution_count": 13,
   "metadata": {
    "ExecuteTime": {
     "end_time": "2021-02-22T22:43:32.735485Z",
     "start_time": "2021-02-22T22:43:32.730684Z"
    }
   },
   "outputs": [],
   "source": [
    "# Compute the impact over the whole exposures\n",
    "imp = Impact()\n",
    "imp.calc(exp, imp_fun_set, hazard)"
   ]
  },
  {
   "cell_type": "code",
   "execution_count": 14,
   "metadata": {
    "ExecuteTime": {
     "end_time": "2021-02-22T22:44:14.365956Z",
     "start_time": "2021-02-22T22:44:14.332065Z"
    }
   },
   "outputs": [
    {
     "name": "stdout",
     "output_type": "stream",
     "text": [
      "C:/msys32/mingw64/bin/evetobin < events.csv > events.bin\n",
      "C:/msys32/mingw64/bin/damagebintobin < damage_bin_dict.csv > damage_bin_dict.bin\n",
      "C:/msys32/mingw64/bin/coveragetobin < coverages.csv > coverages.bin\n",
      "C:/msys32/mingw64/bin/itemtobin < items.csv > items.bin\n",
      "C:/msys32/mingw64/bin/footprinttobin -i800 < footprint.csv\n",
      "C:/msys32/mingw64/bin/vulnerabilitytobin -d800 < vulnerability.csv > vulnerability.bin\n",
      "C:/msys32/mingw64/bin/gulsummaryxreftobin < gulsummaryxref.csv > gulsummaryxref.bin\n",
      "C:/msys32/mingw64/bin/eve 1 1 \n",
      "C:/msys32/mingw64/bin/getmodel\n",
      "C:/msys32/mingw64/bin/gulcalc -S1 -c -\n",
      "C:/msys32/mingw64/bin/summarycalc -g -1 - \n",
      "C:/msys32/mingw64/bin/eltcalc > eltcalc.csv\n"
     ]
    }
   ],
   "source": [
    "# Compute the impact with ktools\n",
    "impk = Impact()\n",
    "impk.calc_ktools(exp, imp_fun_set, hazard)"
   ]
  },
  {
   "cell_type": "code",
   "execution_count": 15,
   "metadata": {},
   "outputs": [
    {
     "name": "stdout",
     "output_type": "stream",
     "text": [
      "at_event climada    ktools              difference          \n",
      "1.90054e+03         1.89987e+03         6.75138e-01         \n",
      "\n",
      "eai_exp climada     ktools              difference          \n",
      "5.86667e+01         5.85014e+01         1.65226e-01         \n",
      "3.23918e+02         3.24027e+02         -1.08391e-01        \n",
      "1.68000e+02         1.67801e+02         1.98608e-01         \n",
      "2.09633e+02         2.09618e+02         1.46111e-02         \n",
      "\n",
      "measure             sum climada         sum ktools          \n",
      "at_event            1900.5442176870747  1899.86908          \n",
      "eai_exp             760.21768707483     759.9476320000001   \n"
     ]
    }
   ],
   "source": [
    "fmt = '{:<20}{:<20}{:<20}'\n",
    "print(fmt.format('at_event climada', 'ktools', 'difference'))\n",
    "for i in range(len(imp.at_event)):\n",
    "    d = imp.at_event[i] - impk.at_event[i]\n",
    "    print( fmt.format(\"%10.5e\"% imp.at_event[i], \"%10.5e\"% impk.at_event[i],\n",
    "                      \"%10.5e\"% d))   \n",
    "\n",
    "print()\n",
    "print(fmt.format('eai_exp climada', 'ktools', 'difference'))\n",
    "for i in range(len(exp.centr_TC)):\n",
    "    d = imp.eai_exp[i] - impk.eai_exp[i]\n",
    "    print( fmt.format(\"%10.5e\"% imp.eai_exp[i], \"%10.5e\"% impk.eai_exp[i],\n",
    "                      \"%10.5e\"% d))\n",
    "print()\n",
    "fmt = '{:<20}{:<20}{:<20}'\n",
    "print(fmt.format('measure', 'sum climada', 'sum ktools'))\n",
    "print(fmt.format('at_event', sum(imp.at_event), sum(impk.at_event))) \n",
    "print(fmt.format('eai_exp', sum(imp.eai_exp), sum(impk.eai_exp)))"
   ]
  },
  {
   "cell_type": "markdown",
   "metadata": {},
   "source": [
    "Since we discretize the impact function in ktools, we do not get the exactly same values as in CLIMADA. \n",
    "By using a lot of fine bins the error can be kept small."
   ]
  },
  {
   "cell_type": "markdown",
   "metadata": {},
   "source": [
    "# Demo Example"
   ]
  },
  {
   "cell_type": "markdown",
   "metadata": {},
   "source": [
    "In this example we get a closer look at the effect of the discretization."
   ]
  },
  {
   "cell_type": "code",
   "execution_count": 16,
   "metadata": {},
   "outputs": [],
   "source": [
    "from climada.util.constants import EXP_DEMO_H5, HAZ_DEMO_H5"
   ]
  },
  {
   "cell_type": "code",
   "execution_count": 17,
   "metadata": {
    "ExecuteTime": {
     "end_time": "2021-02-22T22:47:46.772818Z",
     "start_time": "2021-02-22T22:47:46.682731Z"
    }
   },
   "outputs": [],
   "source": [
    "exp = Exposures()\n",
    "exp.read_hdf5(EXP_DEMO_H5)\n",
    "#exp.plot_hexbin()"
   ]
  },
  {
   "cell_type": "code",
   "execution_count": 18,
   "metadata": {
    "ExecuteTime": {
     "end_time": "2021-02-22T22:47:49.161846Z",
     "start_time": "2021-02-22T22:47:49.115873Z"
    }
   },
   "outputs": [],
   "source": [
    "haz= Hazard()\n",
    "haz.read_hdf5(HAZ_DEMO_H5)\n",
    "#haz.plot_intensity(0)"
   ]
  },
  {
   "cell_type": "code",
   "execution_count": 19,
   "metadata": {
    "ExecuteTime": {
     "end_time": "2021-02-22T22:50:40.435178Z",
     "start_time": "2021-02-22T22:50:40.431757Z"
    }
   },
   "outputs": [],
   "source": [
    "impf = IFTropCyclone()\n",
    "impf.set_emanuel_usa()"
   ]
  },
  {
   "cell_type": "code",
   "execution_count": 20,
   "metadata": {},
   "outputs": [
    {
     "data": {
      "image/png": "[encoded data removed]",
      "text/plain": [
       "<Figure size 432x288 with 1 Axes>"
      ]
     },
     "metadata": {
      "needs_background": "light"
     },
     "output_type": "display_data"
    }
   ],
   "source": [
    "#hand example to show the discretization of the impact function\n",
    "xx = np.arange(0, 120, 0.001)\n",
    "mdr = impf.calc_mdr(xx)*100\n",
    "plt.plot(xx, mdr, label = 'Mean Damage Ratio CLIMADA', color = 'b')\n",
    "discrete_intensity_range = [0, 10, 20, 30, 40, 50, 60, 70, 80, 90, 100, 110, 120]\n",
    "\n",
    "#compute damage bins\n",
    "discrete_mdr_range = impf.calc_mdr(discrete_intensity_range)\n",
    "damage_bin_from = discrete_mdr_range\n",
    "damage_bin_to = np.append(discrete_mdr_range[1:], impf.calc_mdr(max(discrete_intensity_range)))\n",
    "damage_bin_interpolation = 0.5 * (damage_bin_from + damage_bin_to)\n",
    "y = damage_bin_interpolation * 100\n",
    "\n",
    "plt.step(discrete_intensity_range, y, where = 'post', label = 'Constructed Damage Bins OASIS', color = 'r')\n",
    "plt.legend(loc=2, prop={'size': 10})\n",
    "plt.title('Discretization Impact Function')\n",
    "plt.xlabel('Intensity (m/s)')\n",
    "plt.ylabel('Impact (%)')\n",
    "plt.show()"
   ]
  },
  {
   "cell_type": "markdown",
   "metadata": {},
   "source": [
    "The intensities for which the impact function is defined, are put into multiple bins. Then for every such bin the impact percentage is computed, which then corresponds to the damage bin (its middle value)."
   ]
  },
  {
   "cell_type": "code",
   "execution_count": 21,
   "metadata": {
    "ExecuteTime": {
     "end_time": "2021-02-22T22:51:30.424105Z",
     "start_time": "2021-02-22T22:51:30.416784Z"
    }
   },
   "outputs": [],
   "source": [
    "impf_set = ImpactFuncSet()\n",
    "impf_set.append(impf)"
   ]
  },
  {
   "cell_type": "code",
   "execution_count": 22,
   "metadata": {
    "ExecuteTime": {
     "end_time": "2021-02-22T22:51:52.031025Z",
     "start_time": "2021-02-22T22:51:52.014858Z"
    }
   },
   "outputs": [],
   "source": [
    "imp = Impact()\n",
    "imp.calc(exp, impf_set, haz)"
   ]
  },
  {
   "cell_type": "code",
   "execution_count": 23,
   "metadata": {},
   "outputs": [
    {
     "name": "stdout",
     "output_type": "stream",
     "text": [
      "C:/msys32/mingw64/bin/evetobin < events.csv > events.bin\n",
      "C:/msys32/mingw64/bin/damagebintobin < damage_bin_dict.csv > damage_bin_dict.bin\n",
      "C:/msys32/mingw64/bin/coveragetobin < coverages.csv > coverages.bin\n",
      "C:/msys32/mingw64/bin/itemtobin < items.csv > items.bin\n",
      "C:/msys32/mingw64/bin/footprinttobin -i606 < footprint.csv\n",
      "C:/msys32/mingw64/bin/vulnerabilitytobin -d606 < vulnerability.csv > vulnerability.bin\n",
      "C:/msys32/mingw64/bin/gulsummaryxreftobin < gulsummaryxref.csv > gulsummaryxref.bin\n",
      "C:/msys32/mingw64/bin/eve 1 1 \n",
      "C:/msys32/mingw64/bin/getmodel\n",
      "C:/msys32/mingw64/bin/gulcalc -S1 -c -\n",
      "C:/msys32/mingw64/bin/summarycalc -g -1 - \n",
      "C:/msys32/mingw64/bin/eltcalc > eltcalc.csv\n"
     ]
    }
   ],
   "source": [
    "impk = Impact()\n",
    "impk.calc_ktools(exp, impf_set, haz)"
   ]
  },
  {
   "cell_type": "code",
   "execution_count": 24,
   "metadata": {
    "ExecuteTime": {
     "end_time": "2021-02-22T22:52:07.193714Z",
     "start_time": "2021-02-22T22:52:07.185982Z"
    }
   },
   "outputs": [
    {
     "name": "stdout",
     "output_type": "stream",
     "text": [
      "at_event climada    ktools              difference          \n",
      "0.00000e+00         0.00000e+00         0.00000e+00         \n",
      "0.00000e+00         0.00000e+00         0.00000e+00         \n",
      "0.00000e+00         0.00000e+00         0.00000e+00         \n",
      "0.00000e+00         0.00000e+00         0.00000e+00         \n",
      "0.00000e+00         0.00000e+00         0.00000e+00         \n",
      "0.00000e+00         0.00000e+00         0.00000e+00         \n",
      "0.00000e+00         0.00000e+00         0.00000e+00         \n",
      "0.00000e+00         0.00000e+00         0.00000e+00         \n",
      "0.00000e+00         0.00000e+00         0.00000e+00         \n",
      "0.00000e+00         0.00000e+00         0.00000e+00         \n",
      "0.00000e+00         0.00000e+00         0.00000e+00         \n",
      "0.00000e+00         0.00000e+00         0.00000e+00         \n",
      "0.00000e+00         0.00000e+00         0.00000e+00         \n",
      "0.00000e+00         0.00000e+00         0.00000e+00         \n",
      "0.00000e+00         0.00000e+00         0.00000e+00         \n",
      "0.00000e+00         0.00000e+00         0.00000e+00         \n",
      "0.00000e+00         0.00000e+00         0.00000e+00         \n",
      "0.00000e+00         0.00000e+00         0.00000e+00         \n",
      "0.00000e+00         0.00000e+00         0.00000e+00         \n",
      "0.00000e+00         0.00000e+00         0.00000e+00         \n",
      "0.00000e+00         0.00000e+00         0.00000e+00         \n",
      "0.00000e+00         0.00000e+00         0.00000e+00         \n",
      "0.00000e+00         0.00000e+00         0.00000e+00         \n",
      "0.00000e+00         0.00000e+00         0.00000e+00         \n",
      "0.00000e+00         0.00000e+00         0.00000e+00         \n",
      "0.00000e+00         0.00000e+00         0.00000e+00         \n",
      "0.00000e+00         0.00000e+00         0.00000e+00         \n",
      "5.42351e+09         5.44673e+09         -2.32165e+07        \n",
      "0.00000e+00         0.00000e+00         0.00000e+00         \n",
      "0.00000e+00         0.00000e+00         0.00000e+00         \n",
      "0.00000e+00         0.00000e+00         0.00000e+00         \n",
      "0.00000e+00         0.00000e+00         0.00000e+00         \n",
      "0.00000e+00         0.00000e+00         0.00000e+00         \n",
      "0.00000e+00         0.00000e+00         0.00000e+00         \n",
      "0.00000e+00         0.00000e+00         0.00000e+00         \n",
      "0.00000e+00         0.00000e+00         0.00000e+00         \n",
      "0.00000e+00         0.00000e+00         0.00000e+00         \n",
      "0.00000e+00         0.00000e+00         0.00000e+00         \n",
      "0.00000e+00         0.00000e+00         0.00000e+00         \n",
      "0.00000e+00         0.00000e+00         0.00000e+00         \n",
      "0.00000e+00         0.00000e+00         0.00000e+00         \n",
      "0.00000e+00         0.00000e+00         0.00000e+00         \n",
      "0.00000e+00         0.00000e+00         0.00000e+00         \n",
      "0.00000e+00         0.00000e+00         0.00000e+00         \n",
      "0.00000e+00         0.00000e+00         0.00000e+00         \n",
      "0.00000e+00         0.00000e+00         0.00000e+00         \n",
      "0.00000e+00         0.00000e+00         0.00000e+00         \n",
      "0.00000e+00         0.00000e+00         0.00000e+00         \n",
      "0.00000e+00         0.00000e+00         0.00000e+00         \n",
      "0.00000e+00         0.00000e+00         0.00000e+00         \n",
      "0.00000e+00         0.00000e+00         0.00000e+00         \n",
      "0.00000e+00         0.00000e+00         0.00000e+00         \n",
      "0.00000e+00         0.00000e+00         0.00000e+00         \n",
      "0.00000e+00         0.00000e+00         0.00000e+00         \n",
      "0.00000e+00         0.00000e+00         0.00000e+00         \n",
      "4.37803e+07         4.37802e+07         1.02487e+02         \n",
      "0.00000e+00         0.00000e+00         0.00000e+00         \n",
      "0.00000e+00         0.00000e+00         0.00000e+00         \n",
      "0.00000e+00         0.00000e+00         0.00000e+00         \n",
      "0.00000e+00         0.00000e+00         0.00000e+00         \n",
      "8.79363e+07         8.83943e+07         -4.58044e+05        \n",
      "0.00000e+00         0.00000e+00         0.00000e+00         \n",
      "0.00000e+00         0.00000e+00         0.00000e+00         \n",
      "0.00000e+00         0.00000e+00         0.00000e+00         \n",
      "0.00000e+00         0.00000e+00         0.00000e+00         \n",
      "0.00000e+00         0.00000e+00         0.00000e+00         \n",
      "0.00000e+00         0.00000e+00         0.00000e+00         \n",
      "0.00000e+00         0.00000e+00         0.00000e+00         \n",
      "0.00000e+00         0.00000e+00         0.00000e+00         \n",
      "0.00000e+00         0.00000e+00         0.00000e+00         \n",
      "0.00000e+00         0.00000e+00         0.00000e+00         \n",
      "0.00000e+00         0.00000e+00         0.00000e+00         \n",
      "0.00000e+00         0.00000e+00         0.00000e+00         \n",
      "0.00000e+00         0.00000e+00         0.00000e+00         \n",
      "0.00000e+00         0.00000e+00         0.00000e+00         \n",
      "0.00000e+00         0.00000e+00         0.00000e+00         \n",
      "0.00000e+00         0.00000e+00         0.00000e+00         \n",
      "0.00000e+00         0.00000e+00         0.00000e+00         \n",
      "0.00000e+00         0.00000e+00         0.00000e+00         \n",
      "0.00000e+00         0.00000e+00         0.00000e+00         \n",
      "0.00000e+00         0.00000e+00         0.00000e+00         \n",
      "0.00000e+00         0.00000e+00         0.00000e+00         \n",
      "0.00000e+00         0.00000e+00         0.00000e+00         \n",
      "0.00000e+00         0.00000e+00         0.00000e+00         \n",
      "0.00000e+00         0.00000e+00         0.00000e+00         \n",
      "0.00000e+00         0.00000e+00         0.00000e+00         \n",
      "0.00000e+00         0.00000e+00         0.00000e+00         \n",
      "0.00000e+00         0.00000e+00         0.00000e+00         \n",
      "0.00000e+00         0.00000e+00         0.00000e+00         \n",
      "0.00000e+00         0.00000e+00         0.00000e+00         \n",
      "0.00000e+00         0.00000e+00         0.00000e+00         \n",
      "0.00000e+00         0.00000e+00         0.00000e+00         \n",
      "0.00000e+00         0.00000e+00         0.00000e+00         \n",
      "0.00000e+00         0.00000e+00         0.00000e+00         \n",
      "0.00000e+00         0.00000e+00         0.00000e+00         \n",
      "0.00000e+00         0.00000e+00         0.00000e+00         \n",
      "0.00000e+00         0.00000e+00         0.00000e+00         \n",
      "0.00000e+00         0.00000e+00         0.00000e+00         \n",
      "0.00000e+00         0.00000e+00         0.00000e+00         \n",
      "0.00000e+00         0.00000e+00         0.00000e+00         \n",
      "0.00000e+00         0.00000e+00         0.00000e+00         \n",
      "0.00000e+00         0.00000e+00         0.00000e+00         \n",
      "0.00000e+00         0.00000e+00         0.00000e+00         \n",
      "0.00000e+00         0.00000e+00         0.00000e+00         \n",
      "0.00000e+00         0.00000e+00         0.00000e+00         \n",
      "0.00000e+00         0.00000e+00         0.00000e+00         \n",
      "0.00000e+00         0.00000e+00         0.00000e+00         \n",
      "0.00000e+00         0.00000e+00         0.00000e+00         \n",
      "0.00000e+00         0.00000e+00         0.00000e+00         \n",
      "0.00000e+00         0.00000e+00         0.00000e+00         \n",
      "0.00000e+00         0.00000e+00         0.00000e+00         \n",
      "2.09589e+10         2.08847e+10         7.41492e+07         \n",
      "0.00000e+00         0.00000e+00         0.00000e+00         \n",
      "0.00000e+00         0.00000e+00         0.00000e+00         \n",
      "0.00000e+00         0.00000e+00         0.00000e+00         \n",
      "0.00000e+00         0.00000e+00         0.00000e+00         \n",
      "0.00000e+00         0.00000e+00         0.00000e+00         \n",
      "0.00000e+00         0.00000e+00         0.00000e+00         \n",
      "0.00000e+00         0.00000e+00         0.00000e+00         \n",
      "0.00000e+00         0.00000e+00         0.00000e+00         \n",
      "0.00000e+00         0.00000e+00         0.00000e+00         \n",
      "0.00000e+00         0.00000e+00         0.00000e+00         \n",
      "0.00000e+00         0.00000e+00         0.00000e+00         \n",
      "0.00000e+00         0.00000e+00         0.00000e+00         \n",
      "0.00000e+00         0.00000e+00         0.00000e+00         \n",
      "1.56754e+09         1.57422e+09         -6.67770e+06        \n",
      "0.00000e+00         0.00000e+00         0.00000e+00         \n",
      "0.00000e+00         0.00000e+00         0.00000e+00         \n",
      "0.00000e+00         0.00000e+00         0.00000e+00         \n",
      "0.00000e+00         0.00000e+00         0.00000e+00         \n",
      "0.00000e+00         0.00000e+00         0.00000e+00         \n",
      "0.00000e+00         0.00000e+00         0.00000e+00         \n",
      "0.00000e+00         0.00000e+00         0.00000e+00         \n",
      "0.00000e+00         0.00000e+00         0.00000e+00         \n",
      "0.00000e+00         0.00000e+00         0.00000e+00         \n",
      "0.00000e+00         0.00000e+00         0.00000e+00         \n",
      "0.00000e+00         0.00000e+00         0.00000e+00         \n",
      "0.00000e+00         0.00000e+00         0.00000e+00         \n",
      "0.00000e+00         0.00000e+00         0.00000e+00         \n",
      "0.00000e+00         0.00000e+00         0.00000e+00         \n",
      "0.00000e+00         0.00000e+00         0.00000e+00         \n",
      "0.00000e+00         0.00000e+00         0.00000e+00         \n",
      "0.00000e+00         0.00000e+00         0.00000e+00         \n",
      "0.00000e+00         0.00000e+00         0.00000e+00         \n",
      "0.00000e+00         0.00000e+00         0.00000e+00         \n",
      "0.00000e+00         0.00000e+00         0.00000e+00         \n",
      "0.00000e+00         0.00000e+00         0.00000e+00         \n",
      "0.00000e+00         0.00000e+00         0.00000e+00         \n",
      "0.00000e+00         0.00000e+00         0.00000e+00         \n",
      "0.00000e+00         0.00000e+00         0.00000e+00         \n",
      "0.00000e+00         0.00000e+00         0.00000e+00         \n",
      "0.00000e+00         0.00000e+00         0.00000e+00         \n",
      "0.00000e+00         0.00000e+00         0.00000e+00         \n",
      "0.00000e+00         0.00000e+00         0.00000e+00         \n",
      "0.00000e+00         0.00000e+00         0.00000e+00         \n",
      "0.00000e+00         0.00000e+00         0.00000e+00         \n",
      "0.00000e+00         0.00000e+00         0.00000e+00         \n",
      "0.00000e+00         0.00000e+00         0.00000e+00         \n",
      "0.00000e+00         0.00000e+00         0.00000e+00         \n",
      "0.00000e+00         0.00000e+00         0.00000e+00         \n",
      "0.00000e+00         0.00000e+00         0.00000e+00         \n",
      "0.00000e+00         0.00000e+00         0.00000e+00         \n",
      "0.00000e+00         0.00000e+00         0.00000e+00         \n",
      "0.00000e+00         0.00000e+00         0.00000e+00         \n",
      "0.00000e+00         0.00000e+00         0.00000e+00         \n",
      "0.00000e+00         0.00000e+00         0.00000e+00         \n",
      "0.00000e+00         0.00000e+00         0.00000e+00         \n",
      "0.00000e+00         0.00000e+00         0.00000e+00         \n",
      "0.00000e+00         0.00000e+00         0.00000e+00         \n",
      "0.00000e+00         0.00000e+00         0.00000e+00         \n",
      "0.00000e+00         0.00000e+00         0.00000e+00         \n",
      "0.00000e+00         0.00000e+00         0.00000e+00         \n",
      "0.00000e+00         0.00000e+00         0.00000e+00         \n",
      "0.00000e+00         0.00000e+00         0.00000e+00         \n",
      "0.00000e+00         0.00000e+00         0.00000e+00         \n",
      "0.00000e+00         0.00000e+00         0.00000e+00         \n",
      "0.00000e+00         0.00000e+00         0.00000e+00         \n",
      "0.00000e+00         0.00000e+00         0.00000e+00         \n",
      "0.00000e+00         0.00000e+00         0.00000e+00         \n",
      "0.00000e+00         0.00000e+00         0.00000e+00         \n",
      "0.00000e+00         0.00000e+00         0.00000e+00         \n",
      "0.00000e+00         0.00000e+00         0.00000e+00         \n",
      "0.00000e+00         0.00000e+00         0.00000e+00         \n",
      "0.00000e+00         0.00000e+00         0.00000e+00         \n",
      "0.00000e+00         0.00000e+00         0.00000e+00         \n",
      "0.00000e+00         0.00000e+00         0.00000e+00         \n",
      "0.00000e+00         0.00000e+00         0.00000e+00         \n",
      "0.00000e+00         0.00000e+00         0.00000e+00         \n",
      "0.00000e+00         0.00000e+00         0.00000e+00         \n",
      "0.00000e+00         0.00000e+00         0.00000e+00         \n",
      "0.00000e+00         0.00000e+00         0.00000e+00         \n",
      "0.00000e+00         0.00000e+00         0.00000e+00         \n",
      "0.00000e+00         0.00000e+00         0.00000e+00         \n",
      "0.00000e+00         0.00000e+00         0.00000e+00         \n",
      "0.00000e+00         0.00000e+00         0.00000e+00         \n",
      "0.00000e+00         0.00000e+00         0.00000e+00         \n",
      "0.00000e+00         0.00000e+00         0.00000e+00         \n",
      "0.00000e+00         0.00000e+00         0.00000e+00         \n",
      "0.00000e+00         0.00000e+00         0.00000e+00         \n",
      "0.00000e+00         0.00000e+00         0.00000e+00         \n",
      "0.00000e+00         0.00000e+00         0.00000e+00         \n",
      "0.00000e+00         0.00000e+00         0.00000e+00         \n",
      "1.24377e+03         1.78885e+05         -1.77641e+05        \n",
      "0.00000e+00         0.00000e+00         0.00000e+00         \n",
      "0.00000e+00         0.00000e+00         0.00000e+00         \n",
      "1.23538e+10         1.23406e+10         1.31614e+07         \n",
      "0.00000e+00         0.00000e+00         0.00000e+00         \n",
      "0.00000e+00         0.00000e+00         0.00000e+00         \n",
      "0.00000e+00         0.00000e+00         0.00000e+00         \n",
      "0.00000e+00         0.00000e+00         0.00000e+00         \n",
      "1.30102e+10         1.29977e+10         1.25032e+07         \n",
      "0.00000e+00         0.00000e+00         0.00000e+00         \n",
      "0.00000e+00         0.00000e+00         0.00000e+00         \n",
      "0.00000e+00         0.00000e+00         0.00000e+00         \n",
      "0.00000e+00         0.00000e+00         0.00000e+00         \n",
      "0.00000e+00         0.00000e+00         0.00000e+00         \n",
      "\n",
      "eai_exp climada     ktools              difference          \n",
      "8.70290e+06         8.70910e+06         -6.19579e+03        \n",
      "7.87093e+06         7.87653e+06         -5.60375e+03        \n",
      "1.80502e+06         1.79400e+06         1.10244e+04         \n",
      "3.82720e+06         3.82990e+06         -2.70492e+03        \n",
      "5.81535e+06         5.83257e+06         -1.72181e+04        \n",
      "7.87093e+06         7.87653e+06         -5.60375e+03        \n",
      "7.87185e+06         7.87745e+06         -5.60415e+03        \n",
      "7.87093e+06         7.87653e+06         -5.60375e+03        \n",
      "7.88649e+06         7.89210e+06         -5.61473e+03        \n",
      "7.87093e+06         7.87653e+06         -5.60375e+03        \n",
      "7.87606e+06         7.88167e+06         -5.60756e+03        \n",
      "3.85823e+06         3.84703e+06         1.11940e+04         \n",
      "8.40146e+06         8.40744e+06         -5.98182e+03        \n",
      "9.21035e+06         9.21691e+06         -6.55756e+03        \n",
      "1.80636e+06         1.79533e+06         1.10326e+04         \n",
      "6.92225e+06         6.89994e+06         2.23154e+04         \n",
      "6.71101e+06         6.68937e+06         2.16348e+04         \n",
      "6.88657e+06         6.89111e+06         -4.54005e+03        \n",
      "6.70375e+06         6.68214e+06         2.16109e+04         \n",
      "6.70469e+06         6.68308e+06         2.16140e+04         \n",
      "6.70340e+06         6.68179e+06         2.16098e+04         \n",
      "6.81884e+06         6.79686e+06         2.19820e+04         \n",
      "6.71626e+06         6.69461e+06         2.16514e+04         \n",
      "6.70337e+06         6.68176e+06         2.16098e+04         \n",
      "6.70395e+06         6.68234e+06         2.16119e+04         \n",
      "5.67890e+06         5.66221e+06         1.66915e+04         \n",
      "4.98403e+06         4.95282e+06         3.12170e+04         \n",
      "6.70891e+06         6.68728e+06         2.16276e+04         \n",
      "6.70259e+06         6.68098e+06         2.16072e+04         \n",
      "4.96184e+06         4.93077e+06         3.10778e+04         \n",
      "5.13991e+06         5.10772e+06         3.21934e+04         \n",
      "5.25531e+06         5.22239e+06         3.29163e+04         \n",
      "4.98171e+06         4.95050e+06         3.12022e+04         \n",
      "4.92653e+06         4.89567e+06         3.08568e+04         \n",
      "4.97373e+06         4.94257e+06         3.11523e+04         \n",
      "4.92602e+06         4.89516e+06         3.08537e+04         \n",
      "4.93762e+06         4.90669e+06         3.09262e+04         \n",
      "4.92614e+06         4.89529e+06         3.08544e+04         \n",
      "4.92602e+06         4.89516e+06         3.08537e+04         \n",
      "9.57529e+06         9.51531e+06         5.99734e+04         \n",
      "5.10090e+06         5.06896e+06         3.19492e+04         \n",
      "3.50133e+06         3.53013e+06         -2.88047e+04        \n",
      "5.09392e+06         5.13583e+06         -4.19067e+04        \n",
      "3.50553e+06         3.53437e+06         -2.88392e+04        \n",
      "4.00255e+06         4.03548e+06         -3.29283e+04        \n",
      "3.51201e+06         3.54091e+06         -2.88928e+04        \n",
      "3.51499e+06         3.54391e+06         -2.89174e+04        \n",
      "3.56201e+06         3.59131e+06         -2.93039e+04        \n",
      "3.86930e+06         3.88873e+06         -1.94325e+04        \n",
      "3.50932e+06         3.53819e+06         -2.88705e+04        \n",
      "\n",
      "measure             sum climada         sum ktools          \n",
      "at_event            53445660307.01486   53376376331.17969   \n",
      "eai_exp             288895461.1189992   288520953.14151186  \n"
     ]
    }
   ],
   "source": [
    "fmt = '{:<20}{:<20}{:<20}'\n",
    "print(fmt.format('at_event climada', 'ktools', 'difference'))\n",
    "for i in range(len(imp.at_event)):\n",
    "    d = imp.at_event[i] - impk.at_event[i]\n",
    "    print( fmt.format(\"%10.5e\"% imp.at_event[i], \"%10.5e\"% impk.at_event[i],\n",
    "                      \"%10.5e\"% d))   \n",
    "\n",
    "print()\n",
    "print(fmt.format('eai_exp climada', 'ktools', 'difference'))\n",
    "for i in range(len(exp.centr_TC)):\n",
    "    d = imp.eai_exp[i] - impk.eai_exp[i]\n",
    "    print( fmt.format(\"%10.5e\"% imp.eai_exp[i], \"%10.5e\"% impk.eai_exp[i],\n",
    "                      \"%10.5e\"% d))\n",
    "print()\n",
    "fmt = '{:<20}{:<20}{:<20}'\n",
    "print(fmt.format('measure', 'sum climada', 'sum ktools'))\n",
    "print(fmt.format('at_event', sum(imp.at_event), sum(impk.at_event))) \n",
    "print(fmt.format('eai_exp', sum(imp.eai_exp), sum(impk.eai_exp)))"
   ]
  },
  {
   "cell_type": "code",
   "execution_count": 25,
   "metadata": {
    "scrolled": true
   },
   "outputs": [
    {
     "name": "stdout",
     "output_type": "stream",
     "text": [
      "C:/msys32/mingw64/bin/evetobin < events.csv > events.bin\n",
      "C:/msys32/mingw64/bin/damagebintobin < damage_bin_dict.csv > damage_bin_dict.bin\n",
      "C:/msys32/mingw64/bin/coveragetobin < coverages.csv > coverages.bin\n",
      "C:/msys32/mingw64/bin/itemtobin < items.csv > items.bin\n",
      "C:/msys32/mingw64/bin/footprinttobin -i3 < footprint.csv\n",
      "C:/msys32/mingw64/bin/vulnerabilitytobin -d3 < vulnerability.csv > vulnerability.bin\n",
      "C:/msys32/mingw64/bin/gulsummaryxreftobin < gulsummaryxref.csv > gulsummaryxref.bin\n",
      "C:/msys32/mingw64/bin/eve 1 1 \n",
      "C:/msys32/mingw64/bin/getmodel\n",
      "C:/msys32/mingw64/bin/gulcalc -S1 -c -\n",
      "C:/msys32/mingw64/bin/summarycalc -g -1 - \n",
      "C:/msys32/mingw64/bin/eltcalc > eltcalc.csv\n",
      "C:/msys32/mingw64/bin/evetobin < events.csv > events.bin\n",
      "C:/msys32/mingw64/bin/damagebintobin < damage_bin_dict.csv > damage_bin_dict.bin\n",
      "C:/msys32/mingw64/bin/coveragetobin < coverages.csv > coverages.bin\n",
      "C:/msys32/mingw64/bin/itemtobin < items.csv > items.bin\n",
      "C:/msys32/mingw64/bin/footprinttobin -i6 < footprint.csv\n",
      "C:/msys32/mingw64/bin/vulnerabilitytobin -d6 < vulnerability.csv > vulnerability.bin\n",
      "C:/msys32/mingw64/bin/gulsummaryxreftobin < gulsummaryxref.csv > gulsummaryxref.bin\n",
      "C:/msys32/mingw64/bin/eve 1 1 \n",
      "C:/msys32/mingw64/bin/getmodel\n",
      "C:/msys32/mingw64/bin/gulcalc -S1 -c -\n",
      "C:/msys32/mingw64/bin/summarycalc -g -1 - \n",
      "C:/msys32/mingw64/bin/eltcalc > eltcalc.csv\n",
      "C:/msys32/mingw64/bin/evetobin < events.csv > events.bin\n",
      "C:/msys32/mingw64/bin/damagebintobin < damage_bin_dict.csv > damage_bin_dict.bin\n",
      "C:/msys32/mingw64/bin/coveragetobin < coverages.csv > coverages.bin\n",
      "C:/msys32/mingw64/bin/itemtobin < items.csv > items.bin\n",
      "C:/msys32/mingw64/bin/footprinttobin -i12 < footprint.csv\n",
      "C:/msys32/mingw64/bin/vulnerabilitytobin -d12 < vulnerability.csv > vulnerability.bin\n",
      "C:/msys32/mingw64/bin/gulsummaryxreftobin < gulsummaryxref.csv > gulsummaryxref.bin\n",
      "C:/msys32/mingw64/bin/eve 1 1 \n",
      "C:/msys32/mingw64/bin/getmodel\n",
      "C:/msys32/mingw64/bin/gulcalc -S1 -c -\n",
      "C:/msys32/mingw64/bin/summarycalc -g -1 - \n",
      "C:/msys32/mingw64/bin/eltcalc > eltcalc.csv\n",
      "C:/msys32/mingw64/bin/evetobin < events.csv > events.bin\n",
      "C:/msys32/mingw64/bin/damagebintobin < damage_bin_dict.csv > damage_bin_dict.bin\n",
      "C:/msys32/mingw64/bin/coveragetobin < coverages.csv > coverages.bin\n",
      "C:/msys32/mingw64/bin/itemtobin < items.csv > items.bin\n",
      "C:/msys32/mingw64/bin/footprinttobin -i30 < footprint.csv\n",
      "C:/msys32/mingw64/bin/vulnerabilitytobin -d30 < vulnerability.csv > vulnerability.bin\n",
      "C:/msys32/mingw64/bin/gulsummaryxreftobin < gulsummaryxref.csv > gulsummaryxref.bin\n",
      "C:/msys32/mingw64/bin/eve 1 1 \n",
      "C:/msys32/mingw64/bin/getmodel\n",
      "C:/msys32/mingw64/bin/gulcalc -S1 -c -\n",
      "C:/msys32/mingw64/bin/summarycalc -g -1 - \n",
      "C:/msys32/mingw64/bin/eltcalc > eltcalc.csv\n",
      "C:/msys32/mingw64/bin/evetobin < events.csv > events.bin\n",
      "C:/msys32/mingw64/bin/damagebintobin < damage_bin_dict.csv > damage_bin_dict.bin\n",
      "C:/msys32/mingw64/bin/coveragetobin < coverages.csv > coverages.bin\n",
      "C:/msys32/mingw64/bin/itemtobin < items.csv > items.bin\n",
      "C:/msys32/mingw64/bin/footprinttobin -i61 < footprint.csv\n",
      "C:/msys32/mingw64/bin/vulnerabilitytobin -d61 < vulnerability.csv > vulnerability.bin\n",
      "C:/msys32/mingw64/bin/gulsummaryxreftobin < gulsummaryxref.csv > gulsummaryxref.bin\n",
      "C:/msys32/mingw64/bin/eve 1 1 \n",
      "C:/msys32/mingw64/bin/getmodel\n",
      "C:/msys32/mingw64/bin/gulcalc -S1 -c -\n",
      "C:/msys32/mingw64/bin/summarycalc -g -1 - \n",
      "C:/msys32/mingw64/bin/eltcalc > eltcalc.csv\n",
      "C:/msys32/mingw64/bin/evetobin < events.csv > events.bin\n",
      "C:/msys32/mingw64/bin/damagebintobin < damage_bin_dict.csv > damage_bin_dict.bin\n",
      "C:/msys32/mingw64/bin/coveragetobin < coverages.csv > coverages.bin\n",
      "C:/msys32/mingw64/bin/itemtobin < items.csv > items.bin\n",
      "C:/msys32/mingw64/bin/footprinttobin -i121 < footprint.csv\n",
      "C:/msys32/mingw64/bin/vulnerabilitytobin -d121 < vulnerability.csv > vulnerability.bin\n",
      "C:/msys32/mingw64/bin/gulsummaryxreftobin < gulsummaryxref.csv > gulsummaryxref.bin\n",
      "C:/msys32/mingw64/bin/eve 1 1 \n",
      "C:/msys32/mingw64/bin/getmodel\n",
      "C:/msys32/mingw64/bin/gulcalc -S1 -c -\n",
      "C:/msys32/mingw64/bin/summarycalc -g -1 - \n",
      "C:/msys32/mingw64/bin/eltcalc > eltcalc.csv\n",
      "C:/msys32/mingw64/bin/evetobin < events.csv > events.bin\n",
      "C:/msys32/mingw64/bin/damagebintobin < damage_bin_dict.csv > damage_bin_dict.bin\n",
      "C:/msys32/mingw64/bin/coveragetobin < coverages.csv > coverages.bin\n",
      "C:/msys32/mingw64/bin/itemtobin < items.csv > items.bin\n",
      "C:/msys32/mingw64/bin/footprinttobin -i242 < footprint.csv\n",
      "C:/msys32/mingw64/bin/vulnerabilitytobin -d242 < vulnerability.csv > vulnerability.bin\n",
      "C:/msys32/mingw64/bin/gulsummaryxreftobin < gulsummaryxref.csv > gulsummaryxref.bin\n",
      "C:/msys32/mingw64/bin/eve 1 1 \n",
      "C:/msys32/mingw64/bin/getmodel\n",
      "C:/msys32/mingw64/bin/gulcalc -S1 -c -\n",
      "C:/msys32/mingw64/bin/summarycalc -g -1 - \n",
      "C:/msys32/mingw64/bin/eltcalc > eltcalc.csv\n",
      "C:/msys32/mingw64/bin/evetobin < events.csv > events.bin\n",
      "C:/msys32/mingw64/bin/damagebintobin < damage_bin_dict.csv > damage_bin_dict.bin\n",
      "C:/msys32/mingw64/bin/coveragetobin < coverages.csv > coverages.bin\n",
      "C:/msys32/mingw64/bin/itemtobin < items.csv > items.bin\n",
      "C:/msys32/mingw64/bin/footprinttobin -i364 < footprint.csv\n",
      "C:/msys32/mingw64/bin/vulnerabilitytobin -d364 < vulnerability.csv > vulnerability.bin\n",
      "C:/msys32/mingw64/bin/gulsummaryxreftobin < gulsummaryxref.csv > gulsummaryxref.bin\n",
      "C:/msys32/mingw64/bin/eve 1 1 \n",
      "C:/msys32/mingw64/bin/getmodel\n",
      "C:/msys32/mingw64/bin/gulcalc -S1 -c -\n",
      "C:/msys32/mingw64/bin/summarycalc -g -1 - \n",
      "C:/msys32/mingw64/bin/eltcalc > eltcalc.csv\n",
      "C:/msys32/mingw64/bin/evetobin < events.csv > events.bin\n",
      "C:/msys32/mingw64/bin/damagebintobin < damage_bin_dict.csv > damage_bin_dict.bin\n",
      "C:/msys32/mingw64/bin/coveragetobin < coverages.csv > coverages.bin\n",
      "C:/msys32/mingw64/bin/itemtobin < items.csv > items.bin\n",
      "C:/msys32/mingw64/bin/footprinttobin -i485 < footprint.csv\n",
      "C:/msys32/mingw64/bin/vulnerabilitytobin -d485 < vulnerability.csv > vulnerability.bin\n",
      "C:/msys32/mingw64/bin/gulsummaryxreftobin < gulsummaryxref.csv > gulsummaryxref.bin\n",
      "C:/msys32/mingw64/bin/eve 1 1 \n",
      "C:/msys32/mingw64/bin/getmodel\n",
      "C:/msys32/mingw64/bin/gulcalc -S1 -c -\n",
      "C:/msys32/mingw64/bin/summarycalc -g -1 - \n",
      "C:/msys32/mingw64/bin/eltcalc > eltcalc.csv\n",
      "C:/msys32/mingw64/bin/evetobin < events.csv > events.bin\n",
      "C:/msys32/mingw64/bin/damagebintobin < damage_bin_dict.csv > damage_bin_dict.bin\n",
      "C:/msys32/mingw64/bin/coveragetobin < coverages.csv > coverages.bin\n",
      "C:/msys32/mingw64/bin/itemtobin < items.csv > items.bin\n",
      "C:/msys32/mingw64/bin/footprinttobin -i606 < footprint.csv\n",
      "C:/msys32/mingw64/bin/vulnerabilitytobin -d606 < vulnerability.csv > vulnerability.bin\n",
      "C:/msys32/mingw64/bin/gulsummaryxreftobin < gulsummaryxref.csv > gulsummaryxref.bin\n",
      "C:/msys32/mingw64/bin/eve 1 1 \n",
      "C:/msys32/mingw64/bin/getmodel\n",
      "C:/msys32/mingw64/bin/gulcalc -S1 -c -\n",
      "C:/msys32/mingw64/bin/summarycalc -g -1 - \n",
      "C:/msys32/mingw64/bin/eltcalc > eltcalc.csv\n"
     ]
    },
    {
     "data": {
      "image/png": "[encoded data removed]",
      "text/plain": [
       "<Figure size 432x288 with 1 Axes>"
      ]
     },
     "metadata": {
      "needs_background": "light"
     },
     "output_type": "display_data"
    }
   ],
   "source": [
    "imp = Impact()\n",
    "imp.calc(exp, impf_set, haz)\n",
    "n_damage_bins = [5, 10, 20, 50, 100, 200, 400, 600, 800, 1000]\n",
    "at_event = []\n",
    "for i in n_damage_bins:\n",
    "    impk = Impact()\n",
    "    impk.calc_ktools(exp, impf_set, haz, i)\n",
    "    diff = np.zeros(len(impk.at_event))\n",
    "    for j in range(len(impk.at_event)):\n",
    "        diff[j] = impk.at_event[j] - imp.at_event[j]\n",
    "    at_event.append(sum(abs(diff)))\n",
    "\n",
    "x = np.array(n_damage_bins)\n",
    "y = np.array(at_event / sum(imp.at_event))\n",
    "\n",
    "linear_model = np.polyfit(np.log10(x), np.log10(y), 1)\n",
    "linear_model_fct = np.poly1d(linear_model)\n",
    "\n",
    "plt.plot(x,y , 'r', label = 'ktools relative Error', marker = '*')\n",
    "plt.plot(x, 10**linear_model_fct(np.log10(x)), 'b', label = 'Fit: %s' %linear_model_fct)\n",
    "\n",
    "plt.legend(loc=1, prop={'size': 10})\n",
    "plt.title('Log-Log Plot of Relative Error')\n",
    "plt.xlabel('Number of Damage Bins')\n",
    "plt.ylabel('Error in overall Impact')\n",
    "plt.xscale('log')\n",
    "plt.yscale('log')"
   ]
  },
  {
   "cell_type": "markdown",
   "metadata": {},
   "source": [
    "This is a log-log plot of the number of damage bins to the relative error in overall impact (sum of all impacts). We can see that with increasing number of damage bins the relative error in overall impact decays exponentially. Thus, with many damage bins the results of ktools are a good approximation of the CLIMADA computation. This shows that the data translation from CLIMADA to ktools works."
   ]
  },
  {
   "cell_type": "markdown",
   "metadata": {},
   "source": [
    "# Uncertainty Example"
   ]
  },
  {
   "cell_type": "markdown",
   "metadata": {},
   "source": [
    "This example introduces the uncertainty computation of ktools. The exposures, impact functions and hazard data are inserted in CLIMADA and than translated to ktools. This tool is usefull for simple examples but cumbersome for more complex ones because the probability values needed by ktools need to be inserted for every combination by hand."
   ]
  },
  {
   "cell_type": "code",
   "execution_count": 26,
   "metadata": {},
   "outputs": [],
   "source": [
    "from climada.engine.impact_ktools import ImpactKtools"
   ]
  },
  {
   "cell_type": "code",
   "execution_count": 27,
   "metadata": {},
   "outputs": [],
   "source": [
    "exp = DataFrame()\n",
    "exp['value'] = np.array([1000000, 1000000, 1000000, 1000000])\n",
    "exp['latitude'] = np.array([50, 50, -50, -50])\n",
    "exp['longitude'] = np.array([-50, 50, -50, 50])\n",
    "exp['if_TC'] = np.ones(len(exp['value']), int)\n",
    "exp = Exposures(exp)\n",
    "exp.set_geometry_points()\n",
    "exp.check()\n",
    "#exp.plot_hexbin()"
   ]
  },
  {
   "cell_type": "code",
   "execution_count": 28,
   "metadata": {},
   "outputs": [
    {
     "data": {
      "image/png": "[encoded data removed]",
      "text/plain": [
       "<Figure size 432x288 with 1 Axes>"
      ]
     },
     "metadata": {
      "needs_background": "light"
     },
     "output_type": "display_data"
    }
   ],
   "source": [
    "imp_fun = ImpactFunc()\n",
    "imp_fun.haz_type = 'TC'\n",
    "imp_fun.id = 1\n",
    "imp_fun.name = 'Example'\n",
    "imp_fun.intensity_unit = 'm/s'\n",
    "imp_fun.intensity = np.array([0, 40, 100])\n",
    "imp_fun.mdd = np.array([0.0, 0.4, 1.0])\n",
    "imp_fun.paa = np.array([1., 1., 1.])\n",
    "imp_fun.check()\n",
    "\n",
    "imp_fun_set = ImpactFuncSet()\n",
    "imp_fun_set.append(imp_fun)\n",
    "imp_fun_set.plot()\n",
    "plt.show()"
   ]
  },
  {
   "cell_type": "code",
   "execution_count": 29,
   "metadata": {},
   "outputs": [],
   "source": [
    "hazard = Hazard('TC')\n",
    "hazard.centroids = Centroids()\n",
    "hazard.centroids.set_lat_lon(np.array([50, 50, -50]), np.array([-50, 50, -50]), exp.crs)\n",
    "hazard.centroids.region_id = np.array([1, 2, 3])\n",
    "hazard.centroids.check()\n",
    "hazard.units = 'm/s'\n",
    "hazard.event_id = np.array([1, 2, 3])\n",
    "hazard.event_name = ['A', 'B', 'C']\n",
    "# events x centroids\n",
    "hazard.intensity = sparse.csr_matrix([[20, 0, 0], [90, 0, 0], [10, 0, 0]])\n",
    "hazard.fraction = sparse.csr_matrix([[1, 1, 1], [1, 1, 1], [1, 1, 1]])\n",
    "hazard.frequency = np.array([1, 1, 1])\n",
    "hazard.check()\n",
    "# Assign centroids to exposures\n",
    "exp.assign_centroids(hazard)  \n",
    "\n",
    "haz_id = 1\n",
    "haz_type = 'TC'\n",
    "exp.rename(columns={\"if_\": \"if_\" + haz_type}, inplace=True)\n",
    "exp['if_' + haz_type] = haz_id\n",
    "exp.check()"
   ]
  },
  {
   "cell_type": "code",
   "execution_count": 30,
   "metadata": {},
   "outputs": [],
   "source": [
    "imp = Impact()\n",
    "imp.calc(exp, imp_fun_set, hazard)"
   ]
  },
  {
   "cell_type": "code",
   "execution_count": 31,
   "metadata": {},
   "outputs": [],
   "source": [
    "# Define additional information needed for ktools uncertainty example.\n",
    "# Example close to presentation example of OASIS\n",
    "damage_bins = np.array([0.0, 0.4, 1.])\n",
    "n_damage_bins = len(damage_bins) - 1\n",
    "n_intensity_bins = 3 #ktools defines exact intensity bins itself\n",
    "vulnerability_ids = np.array([1, 2]) #example with two vulnerability functions\n",
    "vul_id_per_area = np.random.choice(vulnerability_ids, size=exp.centr_TC.size)\n",
    "\n",
    "#probability of intensities in vulnerability file\n",
    "l = n_damage_bins * n_intensity_bins * len(vulnerability_ids)\n",
    "vulnerability_prob = np.full(l, 0.8)\n",
    "\n",
    "#probability of damages in footprint file\n",
    "k = hazard.intensity.count_nonzero() * n_intensity_bins\n",
    "footprint_prob = np.array([0.7, 0.7, 0.7, 1, 1, 1, 0.7, 0.7, 0.7]) \n",
    "#footprint_prob = np.random.uniform(size = k)\n",
    "sample_size = 100\n",
    "\n",
    "def_bins = {\n",
    "    'n_damage_bins': n_damage_bins,\n",
    "    'damage_bins': damage_bins,\n",
    "    'n_intensity_bins': n_intensity_bins,\n",
    "    'vulnerability_ids': vulnerability_ids,\n",
    "    'vul_id_per_area': vul_id_per_area,\n",
    "    'footprint_prob': footprint_prob,\n",
    "    'vulnerability_prob': vulnerability_prob,\n",
    "    'sample_size': sample_size\n",
    "}"
   ]
  },
  {
   "cell_type": "code",
   "execution_count": 32,
   "metadata": {},
   "outputs": [
    {
     "name": "stdout",
     "output_type": "stream",
     "text": [
      "C:/msys32/mingw64/bin/evetobin < events.csv > events.bin\n",
      "C:/msys32/mingw64/bin/damagebintobin < damage_bin_dict.csv > damage_bin_dict.bin\n",
      "C:/msys32/mingw64/bin/coveragetobin < coverages.csv > coverages.bin\n",
      "C:/msys32/mingw64/bin/itemtobin < items.csv > items.bin\n",
      "C:/msys32/mingw64/bin/footprinttobin -i3 < footprint.csv\n",
      "C:/msys32/mingw64/bin/vulnerabilitytobin -d2 < vulnerability.csv > vulnerability.bin\n",
      "C:/msys32/mingw64/bin/occurrencetobin -P-1899.0 -D  < occurrence.csv > occurrence.bin\n",
      "C:/msys32/mingw64/bin/gulsummaryxreftobin < gulsummaryxref.csv > gulsummaryxref.bin\n",
      "C:/msys32/mingw64/bin/eve 1 1 \n",
      "C:/msys32/mingw64/bin/getmodel\n",
      "C:/msys32/mingw64/bin/gulcalc -S100 -c -\n",
      "C:/msys32/mingw64/bin/summarycalc -g -1 - \n",
      "C:/msys32/mingw64/bin/eltcalc > eltcalc.csv\n"
     ]
    }
   ],
   "source": [
    "impk = ImpactKtools()\n",
    "impk.calc_ktools(exp, imp_fun_set, hazard, def_bins)"
   ]
  },
  {
   "cell_type": "code",
   "execution_count": 33,
   "metadata": {},
   "outputs": [
    {
     "data": {
      "image/png": "[encoded data removed]",
      "text/plain": [
       "<Figure size 432x288 with 1 Axes>"
      ]
     },
     "metadata": {
      "needs_background": "light"
     },
     "output_type": "display_data"
    }
   ],
   "source": [
    "plt.errorbar(hazard.event_id, impk.at_event, yerr=impk.sd_at_event, fmt='o', label='Impact and Standard Deviation')\n",
    "plt.legend(loc=3, prop={'size': 10})\n",
    "plt.title('Impact and Standard Deviation per Event')\n",
    "plt.xlabel('Event ID')\n",
    "plt.ylabel('Impact')\n",
    "x = [1,2,3]\n",
    "values = ['1', '2', '3']\n",
    "plt.xticks(x, values)\n",
    "plt.show()"
   ]
  }
 ],
 "metadata": {
  "hide_input": false,
  "kernelspec": {
   "display_name": "Python [conda env:climada_333_shapely2]",
   "language": "python",
   "name": "conda-env-climada_333_shapely2-py"
  },
  "language_info": {
   "codemirror_mode": {
    "name": "ipython",
    "version": 3
   },
   "file_extension": ".py",
   "mimetype": "text/x-python",
   "name": "python",
   "nbconvert_exporter": "python",
   "pygments_lexer": "ipython3",
   "version": "3.9.16"
  },
  "latex_envs": {
   "LaTeX_envs_menu_present": true,
   "autoclose": false,
   "autocomplete": true,
   "bibliofile": "biblio.bib",
   "cite_by": "apalike",
   "current_citInitial": 1,
   "eqLabelWithNumbers": true,
   "eqNumInitial": 1,
   "hotkeys": {
    "equation": "Ctrl-E",
    "itemize": "Ctrl-I"
   },
   "labels_anchors": false,
   "latex_user_defs": false,
   "report_style_numbering": false,
   "user_envs_cfg": false
  },
  "toc": {
   "base_numbering": 1,
   "nav_menu": {},
   "number_sections": true,
   "sideBar": true,
   "skip_h1_title": false,
   "title_cell": "Table of Contents",
   "title_sidebar": "Contents",
   "toc_cell": false,
   "toc_position": {},
   "toc_section_display": true,
   "toc_window_display": false
  }
 },
 "nbformat": 4,
 "nbformat_minor": 4
}
