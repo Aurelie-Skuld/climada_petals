{
 "cells": [
  {
   "cell_type": "markdown",
   "id": "7659df2e",
   "metadata": {},
   "source": [
    "# Network Modelling within CLIMADA\n",
    "\n",
    "This tutorial gives insights into some basic network modelling functionalities within `climada_petals.engine`.\n",
    "\n",
    "The examples will focus on interdependent critical infrastructure and failure cascades induced by natural hazards. \n",
    "\n",
    "For in-depth information, see the scientific publication underlying this work:\n",
    "_Mühlhofer, E., E. E. Koks, C. M. Kropf, G. Sansavini, and D. N. Bresch, 2023: A generalized natural hazard risk modelling framework for infrastructure failure cascades. Reliability Engineering & System Safety, **234**, 109 194, [doi:10.1016/j.ress.2023.109194](doi:10.1016/j.ress.2023.109194)_"
   ]
  },
  {
   "cell_type": "markdown",
   "id": "e8285fc1",
   "metadata": {},
   "source": [
    "### Outline\n",
    "\n",
    "* Part 1: \n",
    "* Part 2: \n",
    "* Part 3:\n"
   ]
  },
  {
   "cell_type": "markdown",
   "id": "1367f351",
   "metadata": {},
   "source": [
    "## Part 1 - Making networks"
   ]
  },
  {
   "cell_type": "markdown",
   "id": "b88f51bf",
   "metadata": {},
   "source": [
    "### Generic basic example"
   ]
  },
  {
   "cell_type": "code",
   "execution_count": 2,
   "id": "61c612c5",
   "metadata": {},
   "outputs": [],
   "source": [
    "import geopandas as gpd\n",
    "import climada_petals.engine.networks.nw_preps\n",
    "from climada_petals.engine.networks.nw_base import Network"
   ]
  },
  {
   "cell_type": "code",
   "execution_count": null,
   "id": "1816294f",
   "metadata": {},
   "outputs": [],
   "source": [
    "# a few basic steps to prepare a (meaningful) topological network:\n",
    "gdf_edges = ...\n",
    "gdf_nodes = ...\n",
    "\n",
    "network_simp = Network(gdf_edges, gdf_nodes)\n",
    "\n",
    "network_simp = nw_preps.add_endpoints(network_simp)\n",
    "network_simp = nw_preps.add_ids(network_simp)\n",
    "network_simp = nw_preps.add_topology(network_simp)\n",
    "network_simp.edges = drop_duplicate_geometries(network_simp.edges,  keep='first')\n",
    "network_simp = nw_preps.reset_ids(network_simp)\n",
    "\n",
    "network_simp = nw_preps.ordered_network(network_simp)"
   ]
  },
  {
   "cell_type": "markdown",
   "id": "3d712c9f",
   "metadata": {},
   "source": [
    "### Infrastructure-specific basic example"
   ]
  },
  {
   "cell_type": "code",
   "execution_count": null,
   "id": "f933839d",
   "metadata": {},
   "outputs": [],
   "source": [
    "# read gdfs (store on API for use in tutorial)\n",
    "roads_che = gpd.read_feather('')\n",
    "powerlines_che = gpd.read_feather('')\n",
    "health_che = gpd.read_feather('')"
   ]
  },
  {
   "cell_type": "code",
   "execution_count": null,
   "id": "35baec87",
   "metadata": {},
   "outputs": [],
   "source": [
    "# store as \"tidy\" network objects using specific wrappers\n",
    "# does all of the above, but also cleans roundabouts, merges degree-2 nodes, add distances, etc.\n",
    "\n",
    "nw_rd = Network(edges=roads_che)\n",
    "nw_rd = nw_preps.simplified_network(nw_rd)\n",
    "nw_rd = nw_preps.ordered_network(nw_rd, attrs={'ci_type':'road'})\n",
    "\n",
    "nw_pl = Network(edges=powerlines_che)\n",
    "nw_pl = nw_preps.simplified_network(nw_pl)\n",
    "nw_pl = nw_preps.ordered_network(nw_pl,attrs={'ci_type':'powerline'})\n",
    "\n",
    "nw_hc = Network(nodes=hosp_che)\n",
    "nw_hc = nw_preps.simplified_network(nw_hc)\n",
    "nw_hc = nw_preps.ordered_network(nw_hc,attrs={'ci_type':'healthcare'})"
   ]
  },
  {
   "cell_type": "code",
   "execution_count": null,
   "id": "f7204410",
   "metadata": {},
   "outputs": [],
   "source": [
    "# combine into one single network object\n",
    "nw_rd_pl_hc = Network().from_nws([nw_rd, nw_pl, nw_hc])"
   ]
  },
  {
   "cell_type": "markdown",
   "id": "f23ab499",
   "metadata": {},
   "source": [
    "## Part 2 - Making graphs"
   ]
  },
  {
   "cell_type": "code",
   "execution_count": 1,
   "id": "87066860",
   "metadata": {},
   "outputs": [],
   "source": [
    "from climada_petals.engine.networks.nw_base import Graph"
   ]
  },
  {
   "cell_type": "code",
   "execution_count": null,
   "id": "62db64a1",
   "metadata": {},
   "outputs": [],
   "source": [
    "# Turn Networks into Graph object, containing a graph attribute (an igraph.Graph representation of the Network object)\n",
    "# and some basic util functions\n",
    "g_rd = Graph(nw_rd)\n",
    "g_pl = Graph(nw_pl)\n",
    "g_hc = Graph(nw_hc)"
   ]
  },
  {
   "cell_type": "code",
   "execution_count": null,
   "id": "3689e478",
   "metadata": {},
   "outputs": [],
   "source": [
    "# Linking clusters - example power grid\n",
    "\n",
    "print(f'Number of clusters in the power grid: {len(g_pl.graph.connected_components())}')\n",
    "g_pl = nw_calcs.link_clusters(g_pl, link_attrs={'ci_type': 'powerline'})\n",
    "print(f'Number of clusters in the power grid: {len(g_pl.graph.connected_components())')\n",
    "g_pl = nw_calcs.link_clusters(g_pl, link_attrs={'ci_type': 'powerline'})\n",
    "print(f'Number of clusters in the power grid: {len(g_pl.graph.connected_components())')"
   ]
  },
  {
   "cell_type": "code",
   "execution_count": null,
   "id": "98aec688",
   "metadata": {},
   "outputs": [],
   "source": []
  },
  {
   "cell_type": "code",
   "execution_count": null,
   "id": "0334685f",
   "metadata": {},
   "outputs": [],
   "source": []
  },
  {
   "cell_type": "code",
   "execution_count": null,
   "id": "bd5a9e0f",
   "metadata": {},
   "outputs": [],
   "source": []
  }
 ],
 "metadata": {
  "kernelspec": {
   "display_name": "Python 3 (ipykernel)",
   "language": "python",
   "name": "python3"
  },
  "language_info": {
   "codemirror_mode": {
    "name": "ipython",
    "version": 3
   },
   "file_extension": ".py",
   "mimetype": "text/x-python",
   "name": "python",
   "nbconvert_exporter": "python",
   "pygments_lexer": "ipython3",
   "version": "3.9.16"
  }
 },
 "nbformat": 4,
 "nbformat_minor": 5
}
