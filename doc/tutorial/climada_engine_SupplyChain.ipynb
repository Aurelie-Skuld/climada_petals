{
 "cells": [
  {
   "cell_type": "markdown",
   "metadata": {},
   "source": [
    "# SupplyChain class"
   ]
  },
  {
   "cell_type": "code",
   "execution_count": 1,
   "metadata": {},
   "outputs": [],
   "source": [
    "import os\n",
    "os.chdir('/Users/aciullo')"
   ]
  },
  {
   "cell_type": "code",
   "execution_count": 2,
   "metadata": {},
   "outputs": [],
   "source": [
    "import numpy as np\n",
    "import pandas as pd\n",
    "from climada.hazard import TCTracks, TropCyclone, Centroids\n",
    "from climada.entity import LitPop\n",
    "from climada.entity import ImpactFuncSet, ImpfTropCyclone\n",
    "from climada_petals.engine import SupplyChain"
   ]
  },
  {
   "cell_type": "markdown",
   "metadata": {},
   "source": [
    "This tutorial shows how to use the `SupplyChain` class of CLIMADA. This class allows assessing indirect impacts via Input-Ouput modeling. Before diving into this class, it is highly recommended the user first familiarizes herself with the `Exposures`, `Hazard` and `Impact` classes."
   ]
  },
  {
   "cell_type": "markdown",
   "metadata": {},
   "source": [
    "## 1. Load Multi-Regional Input-Output Tables (MRIOT) data."
   ]
  },
  {
   "cell_type": "markdown",
   "metadata": {},
   "source": [
    "At first, one needs to load Input Output data. `SupplyChain` has a function to download and read multi-regional input-output tables (MRIOT) from the 2016 release of WIOD project (www.wiod.org). Yearly WIOT tables are available for the period 2000-2014. A table is automatically downloaded the first time it is used."
   ]
  },
  {
   "cell_type": "code",
   "execution_count": 3,
   "metadata": {},
   "outputs": [
    {
     "name": "stderr",
     "output_type": "stream",
     "text": [
      "898kKB [00:27, 32.1kKB/s]                           \n"
     ]
    }
   ],
   "source": [
    "supplychain = SupplyChain()\n",
    "supplychain.read_wiod16(year=2013)"
   ]
  },
  {
   "cell_type": "markdown",
   "metadata": {},
   "source": [
    "Let's now look at what data are now loaded into `SupplyChain`, i.e. modelled countries, sectors and IO data structure."
   ]
  },
  {
   "cell_type": "code",
   "execution_count": 4,
   "metadata": {},
   "outputs": [
    {
     "data": {
      "text/plain": [
       "array(['AUS', 'AUT', 'BEL', 'BGR', 'BRA', 'CAN', 'CHE', 'CHN', 'CYP',\n",
       "       'CZE', 'DEU', 'DNK', 'ESP', 'EST', 'FIN', 'FRA', 'GBR', 'GRC',\n",
       "       'HRV', 'HUN', 'IDN', 'IND', 'IRL', 'ITA', 'JPN', 'KOR', 'LTU',\n",
       "       'LUX', 'LVA', 'MEX', 'MLT', 'NLD', 'NOR', 'POL', 'PRT', 'ROU',\n",
       "       'RUS', 'SVK', 'SVN', 'SWE', 'TUR', 'TWN', 'USA', 'ROW'],\n",
       "      dtype=object)"
      ]
     },
     "execution_count": 4,
     "metadata": {},
     "output_type": "execute_result"
    }
   ],
   "source": [
    "supplychain.mriot_reg_names"
   ]
  },
  {
   "cell_type": "markdown",
   "metadata": {},
   "source": [
    "There are 43 countries plus 1. The additional \"country\" refers to all countries not explicitly modeled which are aggregated into a Rest of World (ROW) \"country\"."
   ]
  },
  {
   "cell_type": "code",
   "execution_count": 5,
   "metadata": {},
   "outputs": [
    {
     "data": {
      "text/plain": [
       "array(['Crop and animal production, hunting and related service activities',\n",
       "       'Forestry and logging', 'Fishing and aquaculture',\n",
       "       'Mining and quarrying',\n",
       "       'Manufacture of food products, beverages and tobacco products',\n",
       "       'Manufacture of textiles, wearing apparel and leather products',\n",
       "       'Manufacture of wood and of products of wood and cork, except furniture; manufacture of articles of straw and plaiting materials',\n",
       "       'Manufacture of paper and paper products',\n",
       "       'Printing and reproduction of recorded media',\n",
       "       'Manufacture of coke and refined petroleum products ',\n",
       "       'Manufacture of chemicals and chemical products ',\n",
       "       'Manufacture of basic pharmaceutical products and pharmaceutical preparations',\n",
       "       'Manufacture of rubber and plastic products',\n",
       "       'Manufacture of other non-metallic mineral products',\n",
       "       'Manufacture of basic metals',\n",
       "       'Manufacture of fabricated metal products, except machinery and equipment',\n",
       "       'Manufacture of computer, electronic and optical products',\n",
       "       'Manufacture of electrical equipment',\n",
       "       'Manufacture of machinery and equipment n.e.c.',\n",
       "       'Manufacture of motor vehicles, trailers and semi-trailers',\n",
       "       'Manufacture of other transport equipment',\n",
       "       'Manufacture of furniture; other manufacturing',\n",
       "       'Repair and installation of machinery and equipment',\n",
       "       'Electricity, gas, steam and air conditioning supply',\n",
       "       'Water collection, treatment and supply',\n",
       "       'Sewerage; waste collection, treatment and disposal activities; materials recovery; remediation activities and other waste management services ',\n",
       "       'Construction',\n",
       "       'Wholesale and retail trade and repair of motor vehicles and motorcycles',\n",
       "       'Wholesale trade, except of motor vehicles and motorcycles',\n",
       "       'Retail trade, except of motor vehicles and motorcycles',\n",
       "       'Land transport and transport via pipelines', 'Water transport',\n",
       "       'Air transport',\n",
       "       'Warehousing and support activities for transportation',\n",
       "       'Postal and courier activities',\n",
       "       'Accommodation and food service activities',\n",
       "       'Publishing activities',\n",
       "       'Motion picture, video and television programme production, sound recording and music publishing activities; programming and broadcasting activities',\n",
       "       'Telecommunications',\n",
       "       'Computer programming, consultancy and related activities; information service activities',\n",
       "       'Financial service activities, except insurance and pension funding',\n",
       "       'Insurance, reinsurance and pension funding, except compulsory social security',\n",
       "       'Activities auxiliary to financial services and insurance activities',\n",
       "       'Real estate activities',\n",
       "       'Legal and accounting activities; activities of head offices; management consultancy activities',\n",
       "       'Architectural and engineering activities; technical testing and analysis',\n",
       "       'Scientific research and development',\n",
       "       'Advertising and market research',\n",
       "       'Other professional, scientific and technical activities; veterinary activities',\n",
       "       'Administrative and support service activities',\n",
       "       'Public administration and defence; compulsory social security',\n",
       "       'Education', 'Human health and social work activities',\n",
       "       'Other service activities',\n",
       "       'Activities of households as employers; undifferentiated goods- and services-producing activities of households for own use',\n",
       "       'Activities of extraterritorial organizations and bodies'],\n",
       "      dtype=object)"
      ]
     },
     "execution_count": 5,
     "metadata": {},
     "output_type": "execute_result"
    }
   ],
   "source": [
    "supplychain.sectors"
   ]
  },
  {
   "cell_type": "code",
   "execution_count": 6,
   "metadata": {},
   "outputs": [
    {
     "name": "stdout",
     "output_type": "stream",
     "text": [
      "(56,)\n"
     ]
    }
   ],
   "source": [
    "print(supplychain.sectors.shape)"
   ]
  },
  {
   "cell_type": "markdown",
   "metadata": {},
   "source": [
    "There are 56 economic sectors. These sectors can also be grouped into higher-level sectors. For instance, in the aftermath we will model the service sector which will include the following sectors:"
   ]
  },
  {
   "cell_type": "code",
   "execution_count": 7,
   "metadata": {},
   "outputs": [
    {
     "data": {
      "text/plain": [
       "array(['Construction',\n",
       "       'Wholesale and retail trade and repair of motor vehicles and motorcycles',\n",
       "       'Wholesale trade, except of motor vehicles and motorcycles',\n",
       "       'Retail trade, except of motor vehicles and motorcycles',\n",
       "       'Land transport and transport via pipelines', 'Water transport',\n",
       "       'Air transport',\n",
       "       'Warehousing and support activities for transportation',\n",
       "       'Postal and courier activities',\n",
       "       'Accommodation and food service activities',\n",
       "       'Publishing activities',\n",
       "       'Motion picture, video and television programme production, sound recording and music publishing activities; programming and broadcasting activities',\n",
       "       'Telecommunications',\n",
       "       'Computer programming, consultancy and related activities; information service activities',\n",
       "       'Financial service activities, except insurance and pension funding',\n",
       "       'Insurance, reinsurance and pension funding, except compulsory social security',\n",
       "       'Activities auxiliary to financial services and insurance activities',\n",
       "       'Real estate activities',\n",
       "       'Legal and accounting activities; activities of head offices; management consultancy activities',\n",
       "       'Architectural and engineering activities; technical testing and analysis',\n",
       "       'Scientific research and development',\n",
       "       'Advertising and market research',\n",
       "       'Other professional, scientific and technical activities; veterinary activities',\n",
       "       'Administrative and support service activities',\n",
       "       'Public administration and defence; compulsory social security',\n",
       "       'Education', 'Human health and social work activities',\n",
       "       'Other service activities',\n",
       "       'Activities of households as employers; undifferentiated goods- and services-producing activities of households for own use',\n",
       "       'Activities of extraterritorial organizations and bodies'],\n",
       "      dtype=object)"
      ]
     },
     "execution_count": 7,
     "metadata": {},
     "output_type": "execute_result"
    }
   ],
   "source": [
    "supplychain.sectors[range(26,56)]"
   ]
  },
  {
   "cell_type": "markdown",
   "metadata": {},
   "source": [
    "Weather to aggregate sectors into main sectors and how to do it is up to the user, according to the application of interest and data availability. Default settings are available in CLIMADA based on the built-in datasets. These will be introduced below when calculating direct damages."
   ]
  },
  {
   "cell_type": "code",
   "execution_count": 8,
   "metadata": {},
   "outputs": [
    {
     "data": {
      "text/plain": [
       "array([[12040.172354214412, 101.9164143282377, 208.76741897905276, ...,\n",
       "        7.9861927246568385, 0, 1.0916326583937792e-06],\n",
       "       [86.283642969608, 203.7632366724908, 0.1934409618983819, ...,\n",
       "        0.02361017526391285, 0, 2.909262924680758e-08],\n",
       "       [19.789153310985746, 0.001052851734315676, 19.387062673105213,\n",
       "        ..., 0.023757592716657012, 0, 2.804571243540667e-09],\n",
       "       ...,\n",
       "       [2.3321663653078577, 0.011569979643092579, 0.13354713249770248,\n",
       "        ..., 16541.17685820414, 0, 0.8495958305743502],\n",
       "       [0.047169644901188544, 3.5647133751547286e-06,\n",
       "        0.0001487510381775775, ..., 0, 0, 0],\n",
       "       [0, 0, 0, ..., 0, 0, 0]], dtype=object)"
      ]
     },
     "execution_count": 8,
     "metadata": {},
     "output_type": "execute_result"
    }
   ],
   "source": [
    "supplychain.mriot_data"
   ]
  },
  {
   "cell_type": "code",
   "execution_count": 9,
   "metadata": {},
   "outputs": [
    {
     "data": {
      "text/plain": [
       "(2464, 2464)"
      ]
     },
     "execution_count": 9,
     "metadata": {},
     "output_type": "execute_result"
    }
   ],
   "source": [
    "supplychain.mriot_data.shape"
   ]
  },
  {
   "cell_type": "markdown",
   "metadata": {},
   "source": [
    "The MRIO table is a squared matrix with columns (and rows) equal to the number of economic sectors times the number of modeled countries, i.e. 56x44 = 2464. Each column (row) reports input (output) data of *all* sectors of *a given* country untill all countries are reported. The total production from all subsectors of all countries is:"
   ]
  },
  {
   "cell_type": "code",
   "execution_count": null,
   "metadata": {},
   "outputs": [],
   "source": [
    "supplychain.total_prod"
   ]
  },
  {
   "cell_type": "code",
   "execution_count": null,
   "metadata": {},
   "outputs": [],
   "source": [
    "print(supplychain.total_prod.shape)"
   ]
  },
  {
   "cell_type": "markdown",
   "metadata": {},
   "source": [
    "The following dict allows accessing mriot data of single countries:"
   ]
  },
  {
   "cell_type": "code",
   "execution_count": null,
   "metadata": {},
   "outputs": [],
   "source": [
    "supplychain.reg_pos"
   ]
  },
  {
   "cell_type": "markdown",
   "metadata": {},
   "source": [
    "For example, focusing on Switzerland, to find output data from all swiss sectors one can do:"
   ]
  },
  {
   "cell_type": "code",
   "execution_count": null,
   "metadata": {},
   "outputs": [],
   "source": [
    "supplychain.mriot_data[supplychain.reg_pos['CHE']]"
   ]
  },
  {
   "cell_type": "markdown",
   "metadata": {},
   "source": [
    "Similarly, one can find the total production of all Swiss sectors:"
   ]
  },
  {
   "cell_type": "code",
   "execution_count": null,
   "metadata": {},
   "outputs": [],
   "source": [
    "supplychain.total_prod[supplychain.reg_pos['CHE']]"
   ]
  },
  {
   "cell_type": "markdown",
   "metadata": {},
   "source": [
    "## 2. Define Hazard, Exposure and Vulnerability"
   ]
  },
  {
   "cell_type": "markdown",
   "metadata": {},
   "source": [
    "Let's now define hazard, exposure and vulnerability. This is handled via the related CLIMADA classes. In this tutorial we use `LitPop` for exposure and `TropCyclone` for hazard. We will focus on the impact of tropical cyclones affecting the Philippines, Taiwan, Vietnam and Japan in 2012 and 2013. Japan and Taiwan are modeled explicitely by the MRIO table, while the Philippines and Vietnam are modeled as Rest of World, they are thus aggregated into a single country."
   ]
  },
  {
   "cell_type": "code",
   "execution_count": null,
   "metadata": {},
   "outputs": [],
   "source": [
    "countries = ['PHL', 'TWN', 'VNM', 'JPN']\n",
    "exp_lp = LitPop()\n",
    "exp_lp.set_country(countries, res_arcsec=150)\n",
    "exp_lp.set_geometry_points()"
   ]
  },
  {
   "cell_type": "code",
   "execution_count": null,
   "metadata": {},
   "outputs": [],
   "source": [
    "exp_lp.plot_hexbin(pop_name=False)"
   ]
  },
  {
   "cell_type": "code",
   "execution_count": null,
   "metadata": {},
   "outputs": [],
   "source": [
    "tc_tracks=TCTracks.from_ibtracs_netcdf(year_range=(2012,2013), basin='WP')"
   ]
  },
  {
   "cell_type": "code",
   "execution_count": null,
   "metadata": {},
   "outputs": [],
   "source": [
    "tc_tracks.plot()"
   ]
  },
  {
   "cell_type": "code",
   "execution_count": null,
   "metadata": {},
   "outputs": [],
   "source": [
    "centr = Centroids.from_lat_lon(exp_lp.gdf.latitude.values, exp_lp.gdf.longitude.values)"
   ]
  },
  {
   "cell_type": "code",
   "execution_count": null,
   "metadata": {},
   "outputs": [],
   "source": [
    "tc_cyclone = TropCyclone()\n",
    "tc_cyclone.set_from_tracks(tracks=tc_tracks, centroids=centr)"
   ]
  },
  {
   "cell_type": "code",
   "execution_count": null,
   "metadata": {},
   "outputs": [],
   "source": [
    "tc_cyclone.plot_intensity(event=0)"
   ]
  },
  {
   "cell_type": "code",
   "execution_count": null,
   "metadata": {},
   "outputs": [],
   "source": [
    "impf_tc = ImpfTropCyclone.from_emanuel_usa()\n",
    "\n",
    "# add the impact function to an Impact function set\n",
    "impf_set = ImpactFuncSet()\n",
    "impf_set.append(impf_tc)\n",
    "impf_set.check()"
   ]
  },
  {
   "cell_type": "code",
   "execution_count": null,
   "metadata": {},
   "outputs": [],
   "source": [
    "[haz_type] = impf_set.get_hazard_types()\n",
    "[haz_id] = impf_set.get_ids()[haz_type]\n",
    "\n",
    "# Exposures: rename column and assign id\n",
    "exp_lp.gdf.rename(columns={\"impf_\": \"impf_\" + haz_type}, inplace=True)\n",
    "exp_lp.gdf['impf_' + haz_type] = haz_id\n",
    "exp_lp.check()"
   ]
  },
  {
   "cell_type": "markdown",
   "metadata": {},
   "source": [
    "## 3. Calculate direct, indirect and total impact per sector and country"
   ]
  },
  {
   "cell_type": "markdown",
   "metadata": {},
   "source": [
    "Let's now calculate direct, indirect and total impacts. For the **direct impact**, `SupplyChain` requires as inputs `Hazard`, `Exposures` and `ImpactFuncSet`. In addition, one may want to specify `selected_subsec`, which allows the user to either define her own aggregation of sectors by providing a list with the positions of the sectors to aggregate or to use built-in sectors aggregations passing a string being either `service`, `manufacturing`, `agriculture` or `mining`.\n",
    "\n",
    "For this tutorial, we will model the service sector, as this sector's exposure can reasonably be modelled via nighlights and population data, i.e. via `LitPop`."
   ]
  },
  {
   "cell_type": "markdown",
   "metadata": {},
   "source": [
    "### 3.1 Direct impact"
   ]
  },
  {
   "cell_type": "code",
   "execution_count": null,
   "metadata": {},
   "outputs": [],
   "source": [
    "supplychain.calc_sector_direct_impact(tc_cyclone, exp_lp, impf_set, selected_subsec='service')"
   ]
  },
  {
   "cell_type": "markdown",
   "metadata": {},
   "source": [
    "Let's see what new attributes the class has got now."
   ]
  },
  {
   "cell_type": "code",
   "execution_count": null,
   "metadata": {},
   "outputs": [],
   "source": [
    "supplychain.direct_impact"
   ]
  },
  {
   "cell_type": "code",
   "execution_count": null,
   "metadata": {},
   "outputs": [],
   "source": [
    "supplychain.direct_impact.shape"
   ]
  },
  {
   "cell_type": "markdown",
   "metadata": {},
   "source": [
    "All impact matrixes (also those below) provide impacts aggregated over years. They have a number of rows equal to the years being modeled (2 years this time, i.e. 2012-2013) and columns equal to the number of countries times the number of sectors.\n",
    ", i.e. 2464 (see also above)."
   ]
  },
  {
   "cell_type": "code",
   "execution_count": null,
   "metadata": {},
   "outputs": [],
   "source": [
    "supplychain.direct_aai_agg"
   ]
  },
  {
   "cell_type": "code",
   "execution_count": null,
   "metadata": {},
   "outputs": [],
   "source": [
    "supplychain.direct_aai_agg.shape"
   ]
  },
  {
   "cell_type": "markdown",
   "metadata": {},
   "source": [
    "The annual aggregated impact (aai) matrixes provide yearly average impact. They are row vectors with columns equal to the number of countries times the number of sectors, i.e. 2464."
   ]
  },
  {
   "cell_type": "markdown",
   "metadata": {},
   "source": [
    "Info for a given country can be accessed as done below:"
   ]
  },
  {
   "cell_type": "code",
   "execution_count": null,
   "metadata": {},
   "outputs": [],
   "source": [
    "supplychain.direct_aai_agg[supplychain.reg_pos['CHE']]"
   ]
  },
  {
   "cell_type": "markdown",
   "metadata": {},
   "source": [
    "with e.g. CHE, we obviously get zeros, as we are modeling direct impacts in east Asia."
   ]
  },
  {
   "cell_type": "code",
   "execution_count": null,
   "metadata": {},
   "outputs": [],
   "source": [
    "supplychain.direct_aai_agg[supplychain.reg_pos['JPN']]"
   ]
  },
  {
   "cell_type": "markdown",
   "metadata": {},
   "source": [
    "for e.g. Japan we instead have direct damages. In order to get all positions of countries undergoing direct damages, one can access the following list:"
   ]
  },
  {
   "cell_type": "code",
   "execution_count": null,
   "metadata": {},
   "outputs": [],
   "source": [
    "supplychain.reg_dir_imp #note we have two ROW for PHL and VNM"
   ]
  },
  {
   "cell_type": "markdown",
   "metadata": {},
   "source": [
    "and do the following:"
   ]
  },
  {
   "cell_type": "code",
   "execution_count": null,
   "metadata": {},
   "outputs": [],
   "source": [
    "all_pos = [y for cntry in np.unique(supplychain.reg_dir_imp) for y in supplychain.reg_pos[cntry]]"
   ]
  },
  {
   "cell_type": "code",
   "execution_count": null,
   "metadata": {},
   "outputs": [],
   "source": [
    "print(supplychain.direct_impact.sum(), supplychain.direct_impact[:, all_pos].sum())"
   ]
  },
  {
   "cell_type": "code",
   "execution_count": null,
   "metadata": {},
   "outputs": [],
   "source": [
    "print(supplychain.direct_aai_agg.sum(), supplychain.direct_aai_agg[all_pos].sum())"
   ]
  },
  {
   "cell_type": "markdown",
   "metadata": {},
   "source": [
    "i.e., the matrix has non-zero values only at positions corresponding to the modelled countries."
   ]
  },
  {
   "cell_type": "markdown",
   "metadata": {},
   "source": [
    "### 3.2 Indirect impact"
   ]
  },
  {
   "cell_type": "markdown",
   "metadata": {},
   "source": [
    "For the **indirect impact**, one can choose the IO modeling approach between Leontief, Ghosh and EEIOA. References are provided below:"
   ]
  },
  {
   "cell_type": "code",
   "execution_count": null,
   "metadata": {},
   "outputs": [],
   "source": [
    "supplychain.calc_indirect_impact?"
   ]
  },
  {
   "cell_type": "markdown",
   "metadata": {},
   "source": [
    "Let's calculate indirect impacts according to the Ghosh method:"
   ]
  },
  {
   "cell_type": "code",
   "execution_count": null,
   "metadata": {},
   "outputs": [],
   "source": [
    "supplychain.calc_indirect_impact(io_approach='ghosh')"
   ]
  },
  {
   "cell_type": "markdown",
   "metadata": {},
   "source": [
    "The class now has the indirect impact matrix and vector, with structure equal to those introduced for the direct impact:"
   ]
  },
  {
   "cell_type": "code",
   "execution_count": null,
   "metadata": {},
   "outputs": [],
   "source": [
    "supplychain.indirect_impact"
   ]
  },
  {
   "cell_type": "code",
   "execution_count": null,
   "metadata": {},
   "outputs": [],
   "source": [
    "supplychain.indirect_impact.shape"
   ]
  },
  {
   "cell_type": "code",
   "execution_count": null,
   "metadata": {},
   "outputs": [],
   "source": [
    "supplychain.indirect_aai_agg"
   ]
  },
  {
   "cell_type": "markdown",
   "metadata": {},
   "source": [
    "If we now check damages for e.g. Switzerland:"
   ]
  },
  {
   "cell_type": "code",
   "execution_count": null,
   "metadata": {},
   "outputs": [],
   "source": [
    "supplychain.indirect_aai_agg[supplychain.reg_pos['CHE']]"
   ]
  },
  {
   "cell_type": "markdown",
   "metadata": {},
   "source": [
    "there are non-zero values, as CH undergoes indirect impacts due to events happening in east Asia."
   ]
  },
  {
   "cell_type": "markdown",
   "metadata": {},
   "source": [
    "We can also visualize coefficients, inverse matrix and risk matrix of the selected IO approach:"
   ]
  },
  {
   "cell_type": "code",
   "execution_count": null,
   "metadata": {},
   "outputs": [],
   "source": [
    "supplychain.io_data"
   ]
  },
  {
   "cell_type": "markdown",
   "metadata": {},
   "source": [
    "### 3.3 Total impact"
   ]
  },
  {
   "cell_type": "markdown",
   "metadata": {},
   "source": [
    "Finally, let's calculate **total impacts**, as the sum of both direct and indirect. Therefore, the impact matrixes have the same structure as the direct and indirect matrixes."
   ]
  },
  {
   "cell_type": "code",
   "execution_count": null,
   "metadata": {},
   "outputs": [],
   "source": [
    "supplychain.calc_total_impact()"
   ]
  },
  {
   "cell_type": "code",
   "execution_count": null,
   "metadata": {},
   "outputs": [],
   "source": [
    "supplychain.total_impact"
   ]
  },
  {
   "cell_type": "code",
   "execution_count": null,
   "metadata": {},
   "outputs": [],
   "source": [
    "supplychain.total_aai_agg"
   ]
  },
  {
   "cell_type": "markdown",
   "metadata": {},
   "source": [
    "Finally, one can for example visualize total annual average impacts to all Japanese (direct plus indirect) and Swiss (only direct) subsector after TC in East Asia:"
   ]
  },
  {
   "cell_type": "code",
   "execution_count": null,
   "metadata": {},
   "outputs": [],
   "source": [
    "df_imp = pd.DataFrame(data=np.vstack([supplychain.total_aai_agg[supplychain.reg_pos['CHE']],\n",
    "                                      supplychain.total_aai_agg[supplychain.reg_pos['JPN']]]), \n",
    "                      columns=supplychain.sectors,\n",
    "                      index=['CHE', 'JPN'])"
   ]
  },
  {
   "cell_type": "code",
   "execution_count": null,
   "metadata": {},
   "outputs": [],
   "source": [
    "df_imp #in M USD"
   ]
  }
 ],
 "metadata": {
  "kernelspec": {
   "display_name": "Python 3 (ipykernel)",
   "language": "python",
   "name": "python3"
  },
  "language_info": {
   "codemirror_mode": {
    "name": "ipython",
    "version": 3
   },
   "file_extension": ".py",
   "mimetype": "text/x-python",
   "name": "python",
   "nbconvert_exporter": "python",
   "pygments_lexer": "ipython3",
   "version": "3.8.12"
  }
 },
 "nbformat": 4,
 "nbformat_minor": 4
}
